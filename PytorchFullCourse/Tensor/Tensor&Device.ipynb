{
  "nbformat": 4,
  "nbformat_minor": 0,
  "metadata": {
    "colab": {
      "provenance": [],
      "authorship_tag": "ABX9TyN8H+8HGKuTRWy369RoMLLz",
      "include_colab_link": true
    },
    "kernelspec": {
      "name": "python3",
      "display_name": "Python 3"
    },
    "language_info": {
      "name": "python"
    }
  },
  "cells": [
    {
      "cell_type": "markdown",
      "metadata": {
        "id": "view-in-github",
        "colab_type": "text"
      },
      "source": [
        "<a href=\"https://colab.research.google.com/github/iLikeKatz/MyLeaning_ML/blob/main/PytorchFullCourse/Tensor/Tensor%26Device.ipynb\" target=\"_parent\"><img src=\"https://colab.research.google.com/assets/colab-badge.svg\" alt=\"Open In Colab\"/></a>"
      ]
    },
    {
      "cell_type": "code",
      "execution_count": 2,
      "metadata": {
        "id": "ogNtK8vU2Zhg"
      },
      "outputs": [],
      "source": [
        "import torch"
      ]
    },
    {
      "cell_type": "code",
      "source": [
        "#the way to check our gpu\n",
        "torch.cuda.is_available()\n",
        "\n",
        "#set our device\n",
        "device = \"cuda\" if torch.cuda.is_available() else \"cpu\"\n",
        "device"
      ],
      "metadata": {
        "colab": {
          "base_uri": "https://localhost:8080/",
          "height": 35
        },
        "id": "oyX7L7ER2pci",
        "outputId": "2c128f53-16a7-4161-c3a8-f472edd86fb9"
      },
      "execution_count": 3,
      "outputs": [
        {
          "output_type": "execute_result",
          "data": {
            "text/plain": [
              "'cpu'"
            ],
            "application/vnd.google.colaboratory.intrinsic+json": {
              "type": "string"
            }
          },
          "metadata": {},
          "execution_count": 3
        }
      ]
    },
    {
      "cell_type": "code",
      "source": [
        "#move tensor on device\n",
        "tensor = torch.arange(1, 11)\n",
        "tensor_onDevice = tensor.to(device)"
      ],
      "metadata": {
        "id": "5e4oWWdv26j7"
      },
      "execution_count": 4,
      "outputs": []
    },
    {
      "cell_type": "markdown",
      "source": [
        "# Numpy is only works on cpu"
      ],
      "metadata": {
        "id": "3qVncRLw3qTf"
      }
    },
    {
      "cell_type": "code",
      "source": [
        "#tensor_onDevice.numpy() #in fact , it won't works if your device is on gpu, so you have to convert to cpu first\n",
        "\n",
        "#so, the way to fix is\n",
        "tensor_onDevice = tensor_onDevice.cpu() #do this if you use gpu and want to do something with numpy\n",
        "tensor_onDevice.device, tensor_onDevice.numpy()"
      ],
      "metadata": {
        "colab": {
          "base_uri": "https://localhost:8080/"
        },
        "id": "dkGicDzO3v00",
        "outputId": "2f555f95-c172-4cb2-c144-cfbea6cead4a"
      },
      "execution_count": 5,
      "outputs": [
        {
          "output_type": "execute_result",
          "data": {
            "text/plain": [
              "(device(type='cpu'), array([ 1,  2,  3,  4,  5,  6,  7,  8,  9, 10]))"
            ]
          },
          "metadata": {},
          "execution_count": 5
        }
      ]
    }
  ]
}