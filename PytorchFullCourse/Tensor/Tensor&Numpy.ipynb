{
  "nbformat": 4,
  "nbformat_minor": 0,
  "metadata": {
    "colab": {
      "provenance": [],
      "authorship_tag": "ABX9TyM+JLgLTFvp5S7FY7gSy74K",
      "include_colab_link": true
    },
    "kernelspec": {
      "name": "python3",
      "display_name": "Python 3"
    },
    "language_info": {
      "name": "python"
    }
  },
  "cells": [
    {
      "cell_type": "markdown",
      "metadata": {
        "id": "view-in-github",
        "colab_type": "text"
      },
      "source": [
        "<a href=\"https://colab.research.google.com/github/iLikeKatz/MyLeaning_ML/blob/main/PytorchFullCourse/Tensor/Tensor%26Numpy.ipynb\" target=\"_parent\"><img src=\"https://colab.research.google.com/assets/colab-badge.svg\" alt=\"Open In Colab\"/></a>"
      ]
    },
    {
      "cell_type": "code",
      "execution_count": 2,
      "metadata": {
        "id": "IjtdkgrDqZBp"
      },
      "outputs": [],
      "source": [
        "import torch\n",
        "import numpy as np"
      ]
    },
    {
      "cell_type": "code",
      "source": [
        "array = np.array([[1., 2., 3 ], [4. ,5. ,6]])\n",
        "tensor = torch.tensor([[1., 2. ,3.], [4., 5. ,6.]])"
      ],
      "metadata": {
        "id": "QvZhE2mTqfXY"
      },
      "execution_count": 15,
      "outputs": []
    },
    {
      "cell_type": "code",
      "source": [
        "#numpy -->  tensor\n",
        "x = torch.from_numpy(array)\n",
        "x"
      ],
      "metadata": {
        "colab": {
          "base_uri": "https://localhost:8080/"
        },
        "id": "HmW_SgKGq2b-",
        "outputId": "e04ff179-9966-49d9-85cd-0f39909a465a"
      },
      "execution_count": 16,
      "outputs": [
        {
          "output_type": "execute_result",
          "data": {
            "text/plain": [
              "tensor([[1., 2., 3.],\n",
              "        [4., 5., 6.]], dtype=torch.float64)"
            ]
          },
          "metadata": {},
          "execution_count": 16
        }
      ]
    },
    {
      "cell_type": "markdown",
      "source": [
        "## !!! ** BE CAREFUL CUZ ARRAY FROM NUMPY IS DEFAULT BY FLOAT64 U KNOW ** !!!"
      ],
      "metadata": {
        "id": "bPwESZb8sC3L"
      }
    },
    {
      "cell_type": "code",
      "source": [
        "#tenser --> numpy\n",
        "y = tensor.numpy()\n",
        "y\n"
      ],
      "metadata": {
        "colab": {
          "base_uri": "https://localhost:8080/"
        },
        "id": "E14tNI_ErF3d",
        "outputId": "d1d81d53-0cd1-44cc-fbba-9c225dbaeb02"
      },
      "execution_count": 19,
      "outputs": [
        {
          "output_type": "execute_result",
          "data": {
            "text/plain": [
              "array([[1., 2., 3.],\n",
              "       [4., 5., 6.]], dtype=float32)"
            ]
          },
          "metadata": {},
          "execution_count": 19
        }
      ]
    },
    {
      "cell_type": "code",
      "source": [],
      "metadata": {
        "id": "k2IDIe0rxEiM"
      },
      "execution_count": null,
      "outputs": []
    }
  ]
}