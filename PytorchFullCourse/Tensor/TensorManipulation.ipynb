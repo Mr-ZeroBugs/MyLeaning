{
  "nbformat": 4,
  "nbformat_minor": 0,
  "metadata": {
    "colab": {
      "provenance": [],
      "authorship_tag": "ABX9TyPNZUtRultrRoxmsEyIN7l0",
      "include_colab_link": true
    },
    "kernelspec": {
      "name": "python3",
      "display_name": "Python 3"
    },
    "language_info": {
      "name": "python"
    }
  },
  "cells": [
    {
      "cell_type": "markdown",
      "metadata": {
        "id": "view-in-github",
        "colab_type": "text"
      },
      "source": [
        "<a href=\"https://colab.research.google.com/github/iLikeKatz/MyLeaning_ML/blob/main/PytorchFullCourse/Tensor/TensorManipulation.ipynb\" target=\"_parent\"><img src=\"https://colab.research.google.com/assets/colab-badge.svg\" alt=\"Open In Colab\"/></a>"
      ]
    },
    {
      "cell_type": "markdown",
      "source": [
        "### Topic\n",
        "\n",
        "*   Reshaping\n",
        "\n",
        "*   View\n",
        "\n",
        "*   Stacking\n",
        "\n",
        "*  Squeeze\n",
        "\n",
        "* Unsqueen\n",
        "\n",
        "* Permute\n",
        "\n"
      ],
      "metadata": {
        "id": "oNyVeucWyxAN"
      }
    },
    {
      "cell_type": "code",
      "source": [
        "import torch"
      ],
      "metadata": {
        "id": "08fvW8nizHzZ"
      },
      "execution_count": null,
      "outputs": []
    },
    {
      "cell_type": "code",
      "source": [
        "x = torch.arange(1, 10)\n",
        "x.shape"
      ],
      "metadata": {
        "colab": {
          "base_uri": "https://localhost:8080/"
        },
        "id": "TmggcWR5z60i",
        "outputId": "614d1fd7-4bc4-4e58-f229-d2127e6287b9"
      },
      "execution_count": null,
      "outputs": [
        {
          "output_type": "execute_result",
          "data": {
            "text/plain": [
              "torch.Size([9])"
            ]
          },
          "metadata": {},
          "execution_count": 134
        }
      ]
    },
    {
      "cell_type": "markdown",
      "source": [
        "### Reshape"
      ],
      "metadata": {
        "id": "TWFbN6aeYqjv"
      }
    },
    {
      "cell_type": "code",
      "source": [
        "#reshape\n",
        "xReshaped = x.reshape(9, 1) #x * y must be = x.shape\n",
        "xReshaped.shape"
      ],
      "metadata": {
        "colab": {
          "base_uri": "https://localhost:8080/"
        },
        "id": "-_AoB2wF0HT9",
        "outputId": "8c0f0368-f7e1-420b-d609-a7cb3bb40367"
      },
      "execution_count": null,
      "outputs": [
        {
          "output_type": "execute_result",
          "data": {
            "text/plain": [
              "torch.Size([9, 1])"
            ]
          },
          "metadata": {},
          "execution_count": 135
        }
      ]
    },
    {
      "cell_type": "markdown",
      "source": [
        "### View"
      ],
      "metadata": {
        "id": "h5QiYWFJYt1W"
      }
    },
    {
      "cell_type": "code",
      "source": [
        "#view (the difference is z will share memory with x, so if x is changed, z follow x)\n",
        "z = x.view(9, 1)\n",
        "x = x + 1\n",
        "z"
      ],
      "metadata": {
        "colab": {
          "base_uri": "https://localhost:8080/"
        },
        "id": "4IrpAyJT3V7a",
        "outputId": "951ebe73-7a5d-4dfb-f382-b9183e0b995f"
      },
      "execution_count": null,
      "outputs": [
        {
          "output_type": "execute_result",
          "data": {
            "text/plain": [
              "tensor([[1],\n",
              "        [2],\n",
              "        [3],\n",
              "        [4],\n",
              "        [5],\n",
              "        [6],\n",
              "        [7],\n",
              "        [8],\n",
              "        [9]])"
            ]
          },
          "metadata": {},
          "execution_count": 136
        }
      ]
    },
    {
      "cell_type": "markdown",
      "source": [
        "### Stack"
      ],
      "metadata": {
        "id": "gjmSTRKtYxe2"
      }
    },
    {
      "cell_type": "code",
      "source": [
        "#Stack tensor\n",
        "xStacked = torch.stack([x, x, x], dim = 0)\n",
        "xStacked #x stacked by x and x in dim 0"
      ],
      "metadata": {
        "colab": {
          "base_uri": "https://localhost:8080/"
        },
        "id": "Gz17KmO975Bx",
        "outputId": "036949fc-c2e5-47c0-ae55-040bdc6b89c7"
      },
      "execution_count": null,
      "outputs": [
        {
          "output_type": "execute_result",
          "data": {
            "text/plain": [
              "tensor([[ 2,  3,  4,  5,  6,  7,  8,  9, 10],\n",
              "        [ 2,  3,  4,  5,  6,  7,  8,  9, 10],\n",
              "        [ 2,  3,  4,  5,  6,  7,  8,  9, 10]])"
            ]
          },
          "metadata": {},
          "execution_count": 137
        }
      ]
    },
    {
      "cell_type": "code",
      "source": [
        "#Stack tensor (dim 1)\n",
        "xStackedDim1 = torch.stack([x, x, x], dim=1)\n",
        "xStackedDim1 #x stacked by x and x in dim 1"
      ],
      "metadata": {
        "colab": {
          "base_uri": "https://localhost:8080/"
        },
        "id": "kkB2_su89OFJ",
        "outputId": "41237a50-dc08-4f62-8f3c-c04163d2d1c5"
      },
      "execution_count": null,
      "outputs": [
        {
          "output_type": "execute_result",
          "data": {
            "text/plain": [
              "tensor([[ 2,  2,  2],\n",
              "        [ 3,  3,  3],\n",
              "        [ 4,  4,  4],\n",
              "        [ 5,  5,  5],\n",
              "        [ 6,  6,  6],\n",
              "        [ 7,  7,  7],\n",
              "        [ 8,  8,  8],\n",
              "        [ 9,  9,  9],\n",
              "        [10, 10, 10]])"
            ]
          },
          "metadata": {},
          "execution_count": 138
        }
      ]
    },
    {
      "cell_type": "markdown",
      "source": [
        "### Squeeze"
      ],
      "metadata": {
        "id": "CKQqQ3cMY32m"
      }
    },
    {
      "cell_type": "code",
      "source": [
        "#Squeeze remove single dimension, like, if shape : [3, 1] (2d) then use squeen and it'll  reshape to : [3] (1d)\n",
        "a = torch.rand(3, 1)\n",
        "a.ndim,  a.squeeze().ndim"
      ],
      "metadata": {
        "colab": {
          "base_uri": "https://localhost:8080/"
        },
        "id": "5zzyyh1L-Keo",
        "outputId": "460bc451-5967-4772-8891-f950b94916f3"
      },
      "execution_count": null,
      "outputs": [
        {
          "output_type": "execute_result",
          "data": {
            "text/plain": [
              "(2, 1)"
            ]
          },
          "metadata": {},
          "execution_count": 139
        }
      ]
    },
    {
      "cell_type": "markdown",
      "source": [
        "### Unsqueeze"
      ],
      "metadata": {
        "id": "P3YSJ1PLY7YW"
      }
    },
    {
      "cell_type": "code",
      "source": [
        "#Unsqueeze is opposite of squeeze, it's use to add dimen to tensors (if a tensor is single dimen)\n",
        "b = torch.rand(3)\n",
        "f\"{b.ndim} dim  to { b.unsqueeze(1 or 0).ndim} dim\"\n"
      ],
      "metadata": {
        "colab": {
          "base_uri": "https://localhost:8080/",
          "height": 35
        },
        "id": "amsn-jz8F1-U",
        "outputId": "a8a98650-db18-4331-8f28-9d942308129e"
      },
      "execution_count": null,
      "outputs": [
        {
          "output_type": "execute_result",
          "data": {
            "text/plain": [
              "'1 dim  to 2 dim'"
            ],
            "application/vnd.google.colaboratory.intrinsic+json": {
              "type": "string"
            }
          },
          "metadata": {},
          "execution_count": 140
        }
      ]
    },
    {
      "cell_type": "code",
      "source": [
        "#the difference of unsquuze dim 0 and 1\n",
        "print(f\"dim 0 : {b.unsqueeze(0).shape} (add rows 1rows 3columns), \\n dim 1 : {b.unsqueeze(1).shape} (add columns, 3rows 1columns)\")"
      ],
      "metadata": {
        "colab": {
          "base_uri": "https://localhost:8080/"
        },
        "id": "8or_NQfuIdGV",
        "outputId": "c486964a-6aea-4aa7-d2d8-b3a918e246ac"
      },
      "execution_count": null,
      "outputs": [
        {
          "output_type": "stream",
          "name": "stdout",
          "text": [
            "dim 0 : torch.Size([1, 3]) (add rows 1rows 3columns), \n",
            " dim 1 : torch.Size([3, 1]) (add columns, 3rows 1columns)\n"
          ]
        }
      ]
    },
    {
      "cell_type": "markdown",
      "source": [
        "### Permute"
      ],
      "metadata": {
        "id": "Lj3Gr6x3ZDCG"
      }
    },
    {
      "cell_type": "code",
      "source": [
        "g = torch.randn(2, 3, 4)\n",
        "g.shape"
      ],
      "metadata": {
        "colab": {
          "base_uri": "https://localhost:8080/"
        },
        "id": "ZY7rB_UbYnNw",
        "outputId": "f5fbd157-13b8-4bd3-dfa5-5b3105792c6b"
      },
      "execution_count": null,
      "outputs": [
        {
          "output_type": "execute_result",
          "data": {
            "text/plain": [
              "torch.Size([2, 3, 4])"
            ]
          },
          "metadata": {},
          "execution_count": 156
        }
      ]
    },
    {
      "cell_type": "code",
      "source": [
        "g.permute( (2, 0, 1)).shape #based on index, it's mean you swap dimension by index\n",
        "#index 2 > 0, index 0 > 1, index1 > 2, so 2, 3, 4 > 4, 2, 3"
      ],
      "metadata": {
        "colab": {
          "base_uri": "https://localhost:8080/"
        },
        "id": "xwnE3v3SZThS",
        "outputId": "841d7d82-393a-4a3b-9c36-e78b7607454c"
      },
      "execution_count": null,
      "outputs": [
        {
          "output_type": "execute_result",
          "data": {
            "text/plain": [
              "torch.Size([4, 2, 3])"
            ]
          },
          "metadata": {},
          "execution_count": 158
        }
      ]
    },
    {
      "cell_type": "markdown",
      "source": [
        "### Reproducibility"
      ],
      "metadata": {
        "id": "3O2c1xrVxmkG"
      }
    },
    {
      "cell_type": "code",
      "source": [
        "#Reproducibility\n",
        "randomSeed = 42 #whatever but 42 is popular\n",
        "torch.manual_seed(randomSeed)\n",
        "RandTens1 = torch.rand(3, 2)\n",
        "\n",
        "torch.manual_seed(randomSeed)\n",
        "RandTens2 = torch.rand(3, 2)\n",
        "print(RandTens1 == RandTens2)\n",
        "\n",
        "#กล่าวคือ เมื่อนำ randomseed เลขเดยวกัน ไปวางไว้ด้านบน block ของ randomTens มันจะทำให้ค่า random ออกมาเท่ากันเสมอ"
      ],
      "metadata": {
        "colab": {
          "base_uri": "https://localhost:8080/"
        },
        "id": "supCTOTwfrPp",
        "outputId": "4f4d9c7f-df6a-4f42-f1f1-deaf300378c8"
      },
      "execution_count": 170,
      "outputs": [
        {
          "output_type": "stream",
          "name": "stdout",
          "text": [
            "tensor([[True, True],\n",
            "        [True, True],\n",
            "        [True, True]])\n"
          ]
        }
      ]
    }
  ]
}