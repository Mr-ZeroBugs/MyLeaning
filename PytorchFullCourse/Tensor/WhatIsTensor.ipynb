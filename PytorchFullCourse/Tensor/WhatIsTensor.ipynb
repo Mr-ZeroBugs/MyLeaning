{
  "nbformat": 4,
  "nbformat_minor": 0,
  "metadata": {
    "colab": {
      "provenance": [],
      "authorship_tag": "ABX9TyNyCc4SHSjloLOSxUw330j+",
      "include_colab_link": true
    },
    "kernelspec": {
      "name": "python3",
      "display_name": "Python 3"
    },
    "language_info": {
      "name": "python"
    }
  },
  "cells": [
    {
      "cell_type": "markdown",
      "metadata": {
        "id": "view-in-github",
        "colab_type": "text"
      },
      "source": [
        "<a href=\"https://colab.research.google.com/github/iLikeKatz/MyLeaning_ML/blob/main/PytorchFullCourse/Tensor/WhatIsTensor.ipynb\" target=\"_parent\"><img src=\"https://colab.research.google.com/assets/colab-badge.svg\" alt=\"Open In Colab\"/></a>"
      ]
    },
    {
      "cell_type": "code",
      "source": [
        "import torch\n",
        "import torch.nn as non\n",
        "import numpy as np\n",
        "import pandas"
      ],
      "metadata": {
        "id": "yahhnUYTKRiu"
      },
      "execution_count": 1,
      "outputs": []
    },
    {
      "cell_type": "markdown",
      "source": [
        "# **อธิบายก่อน คร่าวๆ**\n",
        "\n",
        "scalar คือจำนวน จำนวนเดียว ไม่มีมิติ\n",
        "\n",
        "vector คือกลุ่มจำนวนหลายจำนวน มีมิติเดียว\n",
        "\n",
        "matrix คือกลุ่มจำนวนหลายจำนวน มี2มิติ rows, columns\n",
        "\n",
        "tensor คือกลุ่มจำนวนหลายจำนวน เป็นไปได้ตั้งเเต่ 0 ถึง infมิติ\n",
        "\n",
        "เเต่มักถูกเรียกตอน 3มิติขึ้นไป"
      ],
      "metadata": {
        "id": "OX3c8jpAyseS"
      }
    },
    {
      "cell_type": "code",
      "source": [
        "#scalar\n",
        "scalar = torch.tensor(7)\n",
        "scalar"
      ],
      "metadata": {
        "id": "ppbtbHGlMjKk",
        "colab": {
          "base_uri": "https://localhost:8080/"
        },
        "outputId": "5185f61f-463b-4bbf-d9dd-fdae85eeddf1"
      },
      "execution_count": null,
      "outputs": [
        {
          "output_type": "execute_result",
          "data": {
            "text/plain": [
              "tensor(7)"
            ]
          },
          "metadata": {},
          "execution_count": 31
        }
      ]
    },
    {
      "cell_type": "code",
      "source": [
        "scalar.ndim #check dimens, scalars always have 0 dimen and only 1 number"
      ],
      "metadata": {
        "colab": {
          "base_uri": "https://localhost:8080/"
        },
        "id": "9ORvH4XQtjdf",
        "outputId": "230b5120-62fe-45e8-8ae6-c9a0a339655c"
      },
      "execution_count": null,
      "outputs": [
        {
          "output_type": "execute_result",
          "data": {
            "text/plain": [
              "0"
            ]
          },
          "metadata": {},
          "execution_count": 32
        }
      ]
    },
    {
      "cell_type": "code",
      "source": [
        "#transform tensor to int (only scalar can)\n",
        "scalar.item()"
      ],
      "metadata": {
        "colab": {
          "base_uri": "https://localhost:8080/"
        },
        "id": "6bDslhJBuWBX",
        "outputId": "2ee9dc1a-26df-4c49-b7e3-f761c4606134"
      },
      "execution_count": null,
      "outputs": [
        {
          "output_type": "execute_result",
          "data": {
            "text/plain": [
              "7"
            ]
          },
          "metadata": {},
          "execution_count": 33
        }
      ]
    },
    {
      "cell_type": "code",
      "source": [
        "#vector\n",
        "vector = torch.tensor([1,2,3])\n",
        "vector\n"
      ],
      "metadata": {
        "colab": {
          "base_uri": "https://localhost:8080/"
        },
        "id": "oDCdQeaYtzw-",
        "outputId": "9a8d5f5c-d440-4f19-99e5-fbeb93bd13bc"
      },
      "execution_count": null,
      "outputs": [
        {
          "output_type": "execute_result",
          "data": {
            "text/plain": [
              "tensor([1, 2, 3])"
            ]
          },
          "metadata": {},
          "execution_count": 37
        }
      ]
    },
    {
      "cell_type": "code",
      "source": [
        "vector.ndim #vectors always have 1 dimen"
      ],
      "metadata": {
        "colab": {
          "base_uri": "https://localhost:8080/"
        },
        "id": "ZfQcTjNvuQW2",
        "outputId": "7a838f9f-8f71-47ab-decc-efc9de91d49c"
      },
      "execution_count": null,
      "outputs": [
        {
          "output_type": "execute_result",
          "data": {
            "text/plain": [
              "1"
            ]
          },
          "metadata": {},
          "execution_count": 26
        }
      ]
    },
    {
      "cell_type": "code",
      "source": [
        "#Matrix\n",
        "mat = torch.tensor([[1,2], [3,4]])\n",
        "mat"
      ],
      "metadata": {
        "colab": {
          "base_uri": "https://localhost:8080/"
        },
        "id": "3tBHwQUMweGR",
        "outputId": "d8d78468-52dc-4f0d-9407-2cae835ad176"
      },
      "execution_count": null,
      "outputs": [
        {
          "output_type": "execute_result",
          "data": {
            "text/plain": [
              "tensor([[1, 2],\n",
              "        [3, 4]])"
            ]
          },
          "metadata": {},
          "execution_count": 27
        }
      ]
    },
    {
      "cell_type": "code",
      "source": [
        "mat.ndim #matrixs always have 2 dimens"
      ],
      "metadata": {
        "colab": {
          "base_uri": "https://localhost:8080/"
        },
        "id": "5VZcP2xsx966",
        "outputId": "34571ec0-7d8d-4ef9-d560-01d0ef2abb72"
      },
      "execution_count": null,
      "outputs": [
        {
          "output_type": "execute_result",
          "data": {
            "text/plain": [
              "2"
            ]
          },
          "metadata": {},
          "execution_count": 28
        }
      ]
    },
    {
      "cell_type": "code",
      "source": [
        "#tensor\n",
        "tens = torch.tensor([[[1,2,3], [4,6,6], [6,7,9]]])\n",
        "tens"
      ],
      "metadata": {
        "colab": {
          "base_uri": "https://localhost:8080/"
        },
        "id": "2lTBXTuFyOF_",
        "outputId": "adc71f25-2a66-48ca-c9bb-db83b5328816"
      },
      "execution_count": null,
      "outputs": [
        {
          "output_type": "execute_result",
          "data": {
            "text/plain": [
              "tensor([[[1, 2, 3],\n",
              "         [4, 6, 6],\n",
              "         [6, 7, 9]]])"
            ]
          },
          "metadata": {},
          "execution_count": 38
        }
      ]
    },
    {
      "cell_type": "code",
      "source": [
        "tens.ndim #and yeah tensors always have 3d or higer"
      ],
      "metadata": {
        "colab": {
          "base_uri": "https://localhost:8080/"
        },
        "id": "JAWh49i51qQY",
        "outputId": "f0dc600f-5422-43a3-f2fd-ee92efc5c084"
      },
      "execution_count": null,
      "outputs": [
        {
          "output_type": "execute_result",
          "data": {
            "text/plain": [
              "3"
            ]
          },
          "metadata": {},
          "execution_count": 40
        }
      ]
    }
  ]
}