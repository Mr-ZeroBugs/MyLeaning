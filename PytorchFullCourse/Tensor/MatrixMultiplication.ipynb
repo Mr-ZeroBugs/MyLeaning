{
  "nbformat": 4,
  "nbformat_minor": 0,
  "metadata": {
    "colab": {
      "provenance": [],
      "authorship_tag": "ABX9TyNsIMWIxO4+2LMlQRldrl6M",
      "include_colab_link": true
    },
    "kernelspec": {
      "name": "python3",
      "display_name": "Python 3"
    },
    "language_info": {
      "name": "python"
    }
  },
  "cells": [
    {
      "cell_type": "markdown",
      "metadata": {
        "id": "view-in-github",
        "colab_type": "text"
      },
      "source": [
        "<a href=\"https://colab.research.google.com/github/iLikeKatz/MyLeaning_ML/blob/main/PytorchFullCourse/Tensor/MatrixMultiplication.ipynb\" target=\"_parent\"><img src=\"https://colab.research.google.com/assets/colab-badge.svg\" alt=\"Open In Colab\"/></a>"
      ]
    },
    {
      "cell_type": "code",
      "execution_count": 35,
      "metadata": {
        "id": "G_MLBBXNRcIG"
      },
      "outputs": [],
      "source": [
        "import  torch"
      ]
    },
    {
      "cell_type": "markdown",
      "source": [
        "### Element- Wise\n",
        "this is simple such as\n",
        " 2 * [1, 2, 3] then [2,4,6] cuz the whole tensor multiplied by 2"
      ],
      "metadata": {
        "id": "x8pGS7PjRkAr"
      }
    },
    {
      "cell_type": "code",
      "source": [
        "tens = torch.tensor([1,2,3])\n",
        "tens * 2"
      ],
      "metadata": {
        "colab": {
          "base_uri": "https://localhost:8080/"
        },
        "id": "Krr-ik_ZRh1d",
        "outputId": "6f628cee-0c10-40de-a12b-7b32b87fdb29"
      },
      "execution_count": 36,
      "outputs": [
        {
          "output_type": "execute_result",
          "data": {
            "text/plain": [
              "tensor([2, 4, 6])"
            ]
          },
          "metadata": {},
          "execution_count": 36
        }
      ]
    },
    {
      "cell_type": "code",
      "source": [
        "# or just\n",
        "tens * tens #result : 1, 4, 9\n",
        "#1*1, 2*2, 3*3, i know you can simply understand this, then"
      ],
      "metadata": {
        "colab": {
          "base_uri": "https://localhost:8080/"
        },
        "id": "LzIlgDwmUuaz",
        "outputId": "0e9640a1-c5d6-4b06-ee2e-0b2aae9857df"
      },
      "execution_count": 37,
      "outputs": [
        {
          "output_type": "execute_result",
          "data": {
            "text/plain": [
              "tensor([1, 4, 9])"
            ]
          },
          "metadata": {},
          "execution_count": 37
        }
      ]
    },
    {
      "cell_type": "markdown",
      "source": [
        "### Dot-Product\n",
        "\n",
        ">\n",
        "\n"
      ],
      "metadata": {
        "id": "7gg-b6TEVEsE"
      }
    },
    {
      "cell_type": "code",
      "source": [
        "torch.matmul(tens, tens) #result : 14 f"
      ],
      "metadata": {
        "colab": {
          "base_uri": "https://localhost:8080/"
        },
        "id": "F1_kYOGxVGR1",
        "outputId": "13c826ae-ddcc-49c7-dc71-a8ff06a7b208"
      },
      "execution_count": 38,
      "outputs": [
        {
          "output_type": "execute_result",
          "data": {
            "text/plain": [
              "tensor(14)"
            ]
          },
          "metadata": {},
          "execution_count": 38
        }
      ]
    },
    {
      "cell_type": "markdown",
      "source": [
        "### why 14?"
      ],
      "metadata": {
        "id": "m5YukoNuZnLp"
      }
    },
    {
      "cell_type": "code",
      "source": [
        "#Dot  product by hands\n",
        "1*1 + 2*2 + 3*3 #this is the process, index1*index1, inde"
      ],
      "metadata": {
        "colab": {
          "base_uri": "https://localhost:8080/"
        },
        "id": "bdoKTaKEZpo-",
        "outputId": "8ee01648-e114-4aff-e80a-e034a68d6ed8"
      },
      "execution_count": 39,
      "outputs": [
        {
          "output_type": "execute_result",
          "data": {
            "text/plain": [
              "14"
            ]
          },
          "metadata": {},
          "execution_count": 39
        }
      ]
    },
    {
      "cell_type": "code",
      "source": [
        "#another example here\n",
        "# if it's not 1d, then you have to convert  those two be like, if matrix a's shape = x * y  then b must be y * z\n",
        "tens = torch.tensor([[1,2,3], [4,5,6]])\n",
        "tens2 = torch.tensor([[7,8], [9,10], [11, 12]])\n",
        "torch.mm(tens, tens2)"
      ],
      "metadata": {
        "colab": {
          "base_uri": "https://localhost:8080/"
        },
        "id": "VFadnByTaKe9",
        "outputId": "03ce301f-ad15-48cb-fb6d-edd67a9a0489"
      },
      "execution_count": 65,
      "outputs": [
        {
          "output_type": "execute_result",
          "data": {
            "text/plain": [
              "tensor([[ 58,  64],\n",
              "        [139, 154]])"
            ]
          },
          "metadata": {},
          "execution_count": 65
        }
      ]
    },
    {
      "cell_type": "code",
      "source": [
        "#another way (laziest way and also can confuse you or others)\n",
        "tens @ tens2"
      ],
      "metadata": {
        "colab": {
          "base_uri": "https://localhost:8080/"
        },
        "id": "mVPpeu9Zol6p",
        "outputId": "4100c8f0-c8f3-4ecd-e70e-00392c9e674e"
      },
      "execution_count": 41,
      "outputs": [
        {
          "output_type": "execute_result",
          "data": {
            "text/plain": [
              "tensor([[ 58,  64],\n",
              "        [139, 154]])"
            ]
          },
          "metadata": {},
          "execution_count": 41
        }
      ]
    },
    {
      "cell_type": "markdown",
      "source": [
        "### if matrix  `a = x * y ` and  ` b = y * z`then a @ b will be shape = [x, z]\n",
        "\n"
      ],
      "metadata": {
        "id": "6X6OpOmOrceo"
      }
    },
    {
      "cell_type": "code",
      "source": [
        "randomTens = torch.rand(3, 3)\n",
        "randomTens2 = torch.rand(3,10)\n",
        "(randomTens @ randomTens2).shape"
      ],
      "metadata": {
        "colab": {
          "base_uri": "https://localhost:8080/"
        },
        "id": "XGMyjrW5q0tT",
        "outputId": "2b9b6e5a-d484-4d42-905b-0d4de26e04c2"
      },
      "execution_count": 66,
      "outputs": [
        {
          "output_type": "execute_result",
          "data": {
            "text/plain": [
              "torch.Size([3, 10])"
            ]
          },
          "metadata": {},
          "execution_count": 66
        }
      ]
    },
    {
      "cell_type": "markdown",
      "source": [
        "### TRANSPOSE"
      ],
      "metadata": {
        "id": "_Tg86emF31rv"
      }
    },
    {
      "cell_type": "code",
      "source": [
        "#for example\n",
        "Tensor = torch.rand(2, 3)\n",
        "Tensor.shape # 2, 3\n",
        "Tensor.T.shape #3, 2\n",
        "after using Transpose it will switches rows and columns"
      ],
      "metadata": {
        "colab": {
          "base_uri": "https://localhost:8080/"
        },
        "id": "LAn6QFlL3vxB",
        "outputId": "a6bfb6d7-7c52-43db-b8cd-c74d05830a71"
      },
      "execution_count": 73,
      "outputs": [
        {
          "output_type": "execute_result",
          "data": {
            "text/plain": [
              "torch.Size([3, 2])"
            ]
          },
          "metadata": {},
          "execution_count": 73
        }
      ]
    }
  ]
}