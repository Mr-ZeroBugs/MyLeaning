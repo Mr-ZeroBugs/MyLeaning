{
  "nbformat": 4,
  "nbformat_minor": 0,
  "metadata": {
    "colab": {
      "provenance": [],
      "authorship_tag": "ABX9TyPTiTZDwTJcoDqRUfoNGgwd",
      "include_colab_link": true
    },
    "kernelspec": {
      "name": "python3",
      "display_name": "Python 3"
    },
    "language_info": {
      "name": "python"
    }
  },
  "cells": [
    {
      "cell_type": "markdown",
      "metadata": {
        "id": "view-in-github",
        "colab_type": "text"
      },
      "source": [
        "<a href=\"https://colab.research.google.com/github/iLikeKatz/MyLeaning_ML/blob/main/PytorchFullCourse/PyTorchWorkflow.ipynb\" target=\"_parent\"><img src=\"https://colab.research.google.com/assets/colab-badge.svg\" alt=\"Open In Colab\"/></a>"
      ]
    },
    {
      "cell_type": "markdown",
      "source": [
        "# y = a + bx\n",
        "y is the value that we want to know (predicted value)\n",
        "\n",
        "a is the value that y would be if x = 0\n",
        "\n",
        "b is slope of graph\n",
        "\n",
        "x is independent value"
      ],
      "metadata": {
        "id": "cS00PcOy_QtM"
      }
    },
    {
      "cell_type": "code",
      "source": [
        "import torch\n",
        "import torch.nn as nn\n",
        "import matplotlib.pyplot as plt"
      ],
      "metadata": {
        "id": "mhlqZs-4_mSe"
      },
      "execution_count": 16,
      "outputs": []
    },
    {
      "cell_type": "code",
      "source": [
        "#preparing data to train\n",
        "a  = 0.7\n",
        "b = 0.3\n",
        "\n",
        "x = torch.arange(0, 1, 0.02).unsqueeze(dim=1)\n",
        "y = a + (b * x) #actually answer\n",
        "\n",
        "plt.scatter(x, y)\n",
        "plt.show()"
      ],
      "metadata": {
        "id": "NwKb74S7_06a",
        "colab": {
          "base_uri": "https://localhost:8080/",
          "height": 430
        },
        "outputId": "3a17e52a-90ba-4c6b-e879-edb96c6032fe"
      },
      "execution_count": 17,
      "outputs": [
        {
          "output_type": "display_data",
          "data": {
            "text/plain": [
              "<Figure size 640x480 with 1 Axes>"
            ],
            "image/png": "[encoded data removed]"
          },
          "metadata": {}
        }
      ]
    },
    {
      "cell_type": "code",
      "source": [
        "#spliting the data\n",
        "train_split = int(len(x) * 0.8) #in this case i use 80% for training\n",
        "x_train, y_train = x[:train_split], y[:train_split]\n",
        "x_test, y_test  = x[train_split:], y[train_split:]\n",
        "x_train.shape, y_train.shape, x_test.shape, y_test.shape\n",
        "\n",
        "x_train, x_test, y_train, y_test = x_train.to(\"cpu\"), x_test.to(\"cpu\"), y_train.to(\"cpu\"), y_test.to(\"cpu\")\n"
      ],
      "metadata": {
        "id": "abIWiJARKTBL"
      },
      "execution_count": 18,
      "outputs": []
    },
    {
      "cell_type": "code",
      "source": [
        "#build model\n",
        "class LinearRegressionModel(nn.Module):\n",
        "  def __init__(self):\n",
        "    super().__init__()\n",
        "    self.weights = nn.Parameter(torch.randn(1, requires_grad=True, dtype=torch.float))\n",
        "    self.bias = nn.Parameter(torch.randn(1, requires_grad=True, dtype=torch.float))\n",
        "\n",
        "  def forward(self, x: torch.tensor) -> torch.tensor:\n",
        "    return self.weights * x + self.bias"
      ],
      "metadata": {
        "id": "N-f_18OzQJBn"
      },
      "execution_count": 19,
      "outputs": []
    },
    {
      "cell_type": "code",
      "source": [
        "def test(x: int) -> torch.tensor: #explain for someone who's wondering tf is this? in (x: int) we just use to tell whoever, that x should be given in int, and -> torch.tensor means that x should return in torch.tensor but these two don't adjust our x, it's just being to tell us what that x should be\n",
        "  return x\n",
        "test(\"f\")  #as you've seen, despite we told anyone what x should be, but if the argument isn't follow our define what x should be, it's nothin"
      ],
      "metadata": {
        "id": "ypP2w8zBlGAs",
        "colab": {
          "base_uri": "https://localhost:8080/",
          "height": 35
        },
        "outputId": "49d74393-8d36-4aa8-9a9a-a6399b2e3e2c"
      },
      "execution_count": 20,
      "outputs": [
        {
          "output_type": "execute_result",
          "data": {
            "text/plain": [
              "'f'"
            ],
            "application/vnd.google.colaboratory.intrinsic+json": {
              "type": "string"
            }
          },
          "metadata": {},
          "execution_count": 20
        }
      ]
    },
    {
      "cell_type": "code",
      "source": [
        "#checking what's in model\n",
        "torch.manual_seed(42)\n",
        "model_0 = LinearRegressionModel().to(\"cpu\")\n",
        "\n",
        "list(model_0.parameters()) #this\n",
        "model_0.state_dict() # or this\n"
      ],
      "metadata": {
        "id": "4FV92B3DAHre",
        "colab": {
          "base_uri": "https://localhost:8080/"
        },
        "outputId": "86e1ba6b-105f-4eac-e1fe-03224f95b594"
      },
      "execution_count": 21,
      "outputs": [
        {
          "output_type": "execute_result",
          "data": {
            "text/plain": [
              "OrderedDict([('weights', tensor([0.3367])), ('bias', tensor([0.1288]))])"
            ]
          },
          "metadata": {},
          "execution_count": 21
        }
      ]
    },
    {
      "cell_type": "code",
      "source": [
        "#set up a loss function\n",
        "loss_fn = nn.L1Loss()\n",
        "learning_rate = 0.01\n",
        "\n",
        "#set up an optimizer\n",
        "optimizer = torch.optim.SGD(model_0.parameters(), lr=learning_rate)\n"
      ],
      "metadata": {
        "id": "n0TVBYHlUABK"
      },
      "execution_count": 22,
      "outputs": []
    },
    {
      "cell_type": "code",
      "source": [
        "#define train loop\n",
        "loss_list = []\n",
        "loss_test_list =  []\n",
        "epoch_count = []\n",
        "epochs = 200\n",
        "for epoch in range(epochs):\n",
        "  model_0.train()\n",
        "  y_pred = model_0(x_train)\n",
        "  loss = loss_fn(y_pred, y_train)\n",
        "\n",
        "  #reset descent every epoch\n",
        "  optimizer.zero_grad()\n",
        "\n",
        "  #calculate backward\n",
        "  loss.backward()\n",
        "\n",
        "  #update descent\n",
        "  optimizer.step()\n",
        "\n",
        "  #testing model that what will happen if model see unknow data and show it with train, test loss\n",
        "  model_0.eval()\n",
        "  with torch.inference_mode():\n",
        "    test_pred = model_0(x_test)\n",
        "    test_loss = loss_fn(test_pred, y_test)\n",
        "    if epoch % 10 == 0 :\n",
        "      loss_list.append(loss)\n",
        "      loss_test_list.append(test_loss)\n",
        "      epoch_count.append(epoch)\n",
        "    if epoch == epochs-1 or epoch == 0 or epoch == round((epochs/2)):\n",
        "      print(f\"Epoch : {epoch+1}, Loss : {loss}, Test Loss = {test_loss}, Paramters : {list(model_0.parameters())[0].numpy()[0]}, {list(model_0.parameters())[1].numpy()[0]}\")\n"
      ],
      "metadata": {
        "id": "tpsdEIkyUPBP",
        "colab": {
          "base_uri": "https://localhost:8080/"
        },
        "outputId": "f3bd7f85-b2b1-4268-bc9c-d94a0b13779a"
      },
      "execution_count": 23,
      "outputs": [
        {
          "output_type": "stream",
          "name": "stdout",
          "text": [
            "Epoch : 1, Loss : 0.556881308555603, Test Loss = 0.5250651240348816, Paramters : 0.34059035778045654, 0.1388094127178192\n",
            "Epoch : 101, Loss : 0.025997888296842575, Test Loss = 0.05985529348254204, Paramters : 0.42757976055145264, 0.6463093161582947\n",
            "Epoch : 200, Loss : 0.0025325536262243986, Test Loss = 0.008088779635727406, Paramters : 0.30179932713508606, 0.6903098225593567\n"
          ]
        }
      ]
    },
    {
      "cell_type": "code",
      "source": [
        "list(model_0.parameters()) #after being trained our model params is closer to initial weight & bias values"
      ],
      "metadata": {
        "id": "v6GLLLqFdJqh",
        "colab": {
          "base_uri": "https://localhost:8080/"
        },
        "outputId": "1ad5fb8f-45a3-4993-ff72-edb98a89742b"
      },
      "execution_count": 24,
      "outputs": [
        {
          "output_type": "execute_result",
          "data": {
            "text/plain": [
              "[Parameter containing:\n",
              " tensor([0.3018], requires_grad=True),\n",
              " Parameter containing:\n",
              " tensor([0.6903], requires_grad=True)]"
            ]
          },
          "metadata": {},
          "execution_count": 24
        }
      ]
    },
    {
      "cell_type": "code",
      "source": [
        "with torch.inference_mode():\n",
        "  prediction = model_0(x_test)\n",
        "  plt.scatter(x_train, y_train, c='y', s=10)\n",
        "  plt.scatter(x_test, y_test, c='r', s=10)\n",
        "  plt.scatter(x_test, prediction, c='b', s=10)\n",
        "  plt.legend([\"Train data\",\"Test data\", \"Predicted data\"])\n",
        "  plt.title(\"Initial Vs Prediction\")\n",
        "\n",
        "  plt.show()"
      ],
      "metadata": {
        "id": "wZaBsfkS8ikf",
        "colab": {
          "base_uri": "https://localhost:8080/",
          "height": 452
        },
        "outputId": "d8a9d2e5-8797-49ef-c374-54e28c4cc9c4"
      },
      "execution_count": 25,
      "outputs": [
        {
          "output_type": "display_data",
          "data": {
            "text/plain": [
              "<Figure size 640x480 with 1 Axes>"
            ],
            "image/png": "[encoded data removed]"
          },
          "metadata": {}
        }
      ]
    },
    {
      "cell_type": "code",
      "source": [
        "#show tending of loss\n",
        "with torch.inference_mode():\n",
        "  plt.plot(epoch_count, loss_list, c='b', label=\"loss\")\n",
        "  plt.plot(epoch_count, loss_test_list, c='r', label=\"loss test\")\n",
        "  plt.title(\"trend of loss\")\n",
        "  plt.legend()\n",
        "  plt.show()"
      ],
      "metadata": {
        "id": "EIO34X3_DClG",
        "colab": {
          "base_uri": "https://localhost:8080/",
          "height": 452
        },
        "outputId": "6c2ab3de-6580-4efb-99d9-9742305518ee"
      },
      "execution_count": 26,
      "outputs": [
        {
          "output_type": "display_data",
          "data": {
            "text/plain": [
              "<Figure size 640x480 with 1 Axes>"
            ],
            "image/png": "[encoded data removed]"
          },
          "metadata": {}
        }
      ]
    },
    {
      "cell_type": "markdown",
      "source": [
        "#** Saving model **"
      ],
      "metadata": {
        "id": "F-NpO06KK60o"
      }
    },
    {
      "cell_type": "code",
      "source": [
        "from pathlib import Path\n",
        "\n",
        "# create model directory\n",
        "model_path = Path(\"Models\")\n",
        "model_path.mkdir(parents=True, exist_ok=True)\n",
        "\n",
        "# create model save path\n",
        "model_name = \"Pytorch_workflow01.pth\"\n",
        "model_save_path = model_path/model_name\n",
        "\n",
        "#save\n",
        "torch.save(model_0.state_dict(), model_save_path)\n"
      ],
      "metadata": {
        "id": "32dbJ2ZCK8sS"
      },
      "execution_count": 27,
      "outputs": []
    },
    {
      "cell_type": "markdown",
      "source": [
        "# Loading model"
      ],
      "metadata": {
        "id": "xbk9Gg2LE1k5"
      }
    },
    {
      "cell_type": "code",
      "source": [
        "loaded_model_0 = LinearRegressionModel()\n",
        "loaded_model_0.load_state_dict(torch.load(f=model_save_path))\n",
        "\n",
        "loaded_model_0.state_dict() #completely loaded"
      ],
      "metadata": {
        "colab": {
          "base_uri": "https://localhost:8080/"
        },
        "id": "5ovLf8FnE3Ti",
        "outputId": "2573e1cd-7784-4dba-f477-f2e63b422030"
      },
      "execution_count": 28,
      "outputs": [
        {
          "output_type": "execute_result",
          "data": {
            "text/plain": [
              "OrderedDict([('weights', tensor([0.3018])), ('bias', tensor([0.6903]))])"
            ]
          },
          "metadata": {},
          "execution_count": 28
        }
      ]
    },
    {
      "cell_type": "code",
      "source": [
        "#testing model\n",
        "with torch.inference_mode():\n",
        "  loaded_model_0.eval(), model_0.eval()\n",
        "  loaded_model, initial_model = loaded_model_0(x_train), model_0(x_train)"
      ],
      "metadata": {
        "id": "Z5vyxPl0GonY"
      },
      "execution_count": 29,
      "outputs": []
    },
    {
      "cell_type": "code",
      "source": [
        "true_count = sum(1 for i in range(len(loaded_model)) if initial_model[i] == loaded_model[i])\n",
        "f\"amount of same predicted data between initial model with loaded model = {true_count} from all {len(loaded_model)}\""
      ],
      "metadata": {
        "colab": {
          "base_uri": "https://localhost:8080/",
          "height": 35
        },
        "id": "y4nTE_UbHRnD",
        "outputId": "9b013495-8da1-410d-f133-7f4f7353acec"
      },
      "execution_count": 30,
      "outputs": [
        {
          "output_type": "execute_result",
          "data": {
            "text/plain": [
              "'amount of same predicted data between initial model with loaded model = 40 from all 40'"
            ],
            "application/vnd.google.colaboratory.intrinsic+json": {
              "type": "string"
            }
          },
          "metadata": {},
          "execution_count": 30
        }
      ]
    }
  ]
}