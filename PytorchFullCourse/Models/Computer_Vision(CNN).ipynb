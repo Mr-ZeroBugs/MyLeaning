{
  "nbformat": 4,
  "nbformat_minor": 0,
  "metadata": {
    "colab": {
      "provenance": [],
      "gpuType": "T4",
      "authorship_tag": "ABX9TyP3ZvXekJTEVS7MLhhOg7uN",
      "include_colab_link": true
    },
    "kernelspec": {
      "name": "python3",
      "display_name": "Python 3"
    },
    "language_info": {
      "name": "python"
    },
    "widgets": {
      "application/vnd.jupyter.widget-state+json": {
        "955bdb1578c642f6b1cf936d7ec87ac5": {
          "model_module": "@jupyter-widgets/controls",
          "model_name": "HBoxModel",
          "model_module_version": "1.5.0",
          "state": {
            "_dom_classes": [],
            "_model_module": "@jupyter-widgets/controls",
            "_model_module_version": "1.5.0",
            "_model_name": "HBoxModel",
            "_view_count": null,
            "_view_module": "@jupyter-widgets/controls",
            "_view_module_version": "1.5.0",
            "_view_name": "HBoxView",
            "box_style": "",
            "children": [
              "IPY_MODEL_fef62cb0786a461cb27c9db33ed5fdb4",
              "IPY_MODEL_c25c728405de4478bb039113127764d8",
              "IPY_MODEL_fdc8b8a0bfab4e28bcf1c772c7184b13"
            ],
            "layout": "IPY_MODEL_4614b49501444a3d9c429d6169d1945c"
          }
        },
        "fef62cb0786a461cb27c9db33ed5fdb4": {
          "model_module": "@jupyter-widgets/controls",
          "model_name": "HTMLModel",
          "model_module_version": "1.5.0",
          "state": {
            "_dom_classes": [],
            "_model_module": "@jupyter-widgets/controls",
            "_model_module_version": "1.5.0",
            "_model_name": "HTMLModel",
            "_view_count": null,
            "_view_module": "@jupyter-widgets/controls",
            "_view_module_version": "1.5.0",
            "_view_name": "HTMLView",
            "description": "",
            "description_tooltip": null,
            "layout": "IPY_MODEL_68e5e52f99a94117bf77b10b0b784e47",
            "placeholder": "​",
            "style": "IPY_MODEL_ebe4cf1b6b2944a09342e6f402af71dd",
            "value": "100%"
          }
        },
        "c25c728405de4478bb039113127764d8": {
          "model_module": "@jupyter-widgets/controls",
          "model_name": "FloatProgressModel",
          "model_module_version": "1.5.0",
          "state": {
            "_dom_classes": [],
            "_model_module": "@jupyter-widgets/controls",
            "_model_module_version": "1.5.0",
            "_model_name": "FloatProgressModel",
            "_view_count": null,
            "_view_module": "@jupyter-widgets/controls",
            "_view_module_version": "1.5.0",
            "_view_name": "ProgressView",
            "bar_style": "success",
            "description": "",
            "description_tooltip": null,
            "layout": "IPY_MODEL_57c62ac085664397b068b936185a07d8",
            "max": 3,
            "min": 0,
            "orientation": "horizontal",
            "style": "IPY_MODEL_3c2390330b0b447c895d5f61830358ef",
            "value": 3
          }
        },
        "fdc8b8a0bfab4e28bcf1c772c7184b13": {
          "model_module": "@jupyter-widgets/controls",
          "model_name": "HTMLModel",
          "model_module_version": "1.5.0",
          "state": {
            "_dom_classes": [],
            "_model_module": "@jupyter-widgets/controls",
            "_model_module_version": "1.5.0",
            "_model_name": "HTMLModel",
            "_view_count": null,
            "_view_module": "@jupyter-widgets/controls",
            "_view_module_version": "1.5.0",
            "_view_name": "HTMLView",
            "description": "",
            "description_tooltip": null,
            "layout": "IPY_MODEL_90e91ed531a84f01a47e744df332f1eb",
            "placeholder": "​",
            "style": "IPY_MODEL_e1c1551f4e6c4170aef679ce660df7ac",
            "value": " 3/3 [00:41&lt;00:00, 13.72s/it]"
          }
        },
        "4614b49501444a3d9c429d6169d1945c": {
          "model_module": "@jupyter-widgets/base",
          "model_name": "LayoutModel",
          "model_module_version": "1.2.0",
          "state": {
            "_model_module": "@jupyter-widgets/base",
            "_model_module_version": "1.2.0",
            "_model_name": "LayoutModel",
            "_view_count": null,
            "_view_module": "@jupyter-widgets/base",
            "_view_module_version": "1.2.0",
            "_view_name": "LayoutView",
            "align_content": null,
            "align_items": null,
            "align_self": null,
            "border": null,
            "bottom": null,
            "display": null,
            "flex": null,
            "flex_flow": null,
            "grid_area": null,
            "grid_auto_columns": null,
            "grid_auto_flow": null,
            "grid_auto_rows": null,
            "grid_column": null,
            "grid_gap": null,
            "grid_row": null,
            "grid_template_areas": null,
            "grid_template_columns": null,
            "grid_template_rows": null,
            "height": null,
            "justify_content": null,
            "justify_items": null,
            "left": null,
            "margin": null,
            "max_height": null,
            "max_width": null,
            "min_height": null,
            "min_width": null,
            "object_fit": null,
            "object_position": null,
            "order": null,
            "overflow": null,
            "overflow_x": null,
            "overflow_y": null,
            "padding": null,
            "right": null,
            "top": null,
            "visibility": null,
            "width": null
          }
        },
        "68e5e52f99a94117bf77b10b0b784e47": {
          "model_module": "@jupyter-widgets/base",
          "model_name": "LayoutModel",
          "model_module_version": "1.2.0",
          "state": {
            "_model_module": "@jupyter-widgets/base",
            "_model_module_version": "1.2.0",
            "_model_name": "LayoutModel",
            "_view_count": null,
            "_view_module": "@jupyter-widgets/base",
            "_view_module_version": "1.2.0",
            "_view_name": "LayoutView",
            "align_content": null,
            "align_items": null,
            "align_self": null,
            "border": null,
            "bottom": null,
            "display": null,
            "flex": null,
            "flex_flow": null,
            "grid_area": null,
            "grid_auto_columns": null,
            "grid_auto_flow": null,
            "grid_auto_rows": null,
            "grid_column": null,
            "grid_gap": null,
            "grid_row": null,
            "grid_template_areas": null,
            "grid_template_columns": null,
            "grid_template_rows": null,
            "height": null,
            "justify_content": null,
            "justify_items": null,
            "left": null,
            "margin": null,
            "max_height": null,
            "max_width": null,
            "min_height": null,
            "min_width": null,
            "object_fit": null,
            "object_position": null,
            "order": null,
            "overflow": null,
            "overflow_x": null,
            "overflow_y": null,
            "padding": null,
            "right": null,
            "top": null,
            "visibility": null,
            "width": null
          }
        },
        "ebe4cf1b6b2944a09342e6f402af71dd": {
          "model_module": "@jupyter-widgets/controls",
          "model_name": "DescriptionStyleModel",
          "model_module_version": "1.5.0",
          "state": {
            "_model_module": "@jupyter-widgets/controls",
            "_model_module_version": "1.5.0",
            "_model_name": "DescriptionStyleModel",
            "_view_count": null,
            "_view_module": "@jupyter-widgets/base",
            "_view_module_version": "1.2.0",
            "_view_name": "StyleView",
            "description_width": ""
          }
        },
        "57c62ac085664397b068b936185a07d8": {
          "model_module": "@jupyter-widgets/base",
          "model_name": "LayoutModel",
          "model_module_version": "1.2.0",
          "state": {
            "_model_module": "@jupyter-widgets/base",
            "_model_module_version": "1.2.0",
            "_model_name": "LayoutModel",
            "_view_count": null,
            "_view_module": "@jupyter-widgets/base",
            "_view_module_version": "1.2.0",
            "_view_name": "LayoutView",
            "align_content": null,
            "align_items": null,
            "align_self": null,
            "border": null,
            "bottom": null,
            "display": null,
            "flex": null,
            "flex_flow": null,
            "grid_area": null,
            "grid_auto_columns": null,
            "grid_auto_flow": null,
            "grid_auto_rows": null,
            "grid_column": null,
            "grid_gap": null,
            "grid_row": null,
            "grid_template_areas": null,
            "grid_template_columns": null,
            "grid_template_rows": null,
            "height": null,
            "justify_content": null,
            "justify_items": null,
            "left": null,
            "margin": null,
            "max_height": null,
            "max_width": null,
            "min_height": null,
            "min_width": null,
            "object_fit": null,
            "object_position": null,
            "order": null,
            "overflow": null,
            "overflow_x": null,
            "overflow_y": null,
            "padding": null,
            "right": null,
            "top": null,
            "visibility": null,
            "width": null
          }
        },
        "3c2390330b0b447c895d5f61830358ef": {
          "model_module": "@jupyter-widgets/controls",
          "model_name": "ProgressStyleModel",
          "model_module_version": "1.5.0",
          "state": {
            "_model_module": "@jupyter-widgets/controls",
            "_model_module_version": "1.5.0",
            "_model_name": "ProgressStyleModel",
            "_view_count": null,
            "_view_module": "@jupyter-widgets/base",
            "_view_module_version": "1.2.0",
            "_view_name": "StyleView",
            "bar_color": null,
            "description_width": ""
          }
        },
        "90e91ed531a84f01a47e744df332f1eb": {
          "model_module": "@jupyter-widgets/base",
          "model_name": "LayoutModel",
          "model_module_version": "1.2.0",
          "state": {
            "_model_module": "@jupyter-widgets/base",
            "_model_module_version": "1.2.0",
            "_model_name": "LayoutModel",
            "_view_count": null,
            "_view_module": "@jupyter-widgets/base",
            "_view_module_version": "1.2.0",
            "_view_name": "LayoutView",
            "align_content": null,
            "align_items": null,
            "align_self": null,
            "border": null,
            "bottom": null,
            "display": null,
            "flex": null,
            "flex_flow": null,
            "grid_area": null,
            "grid_auto_columns": null,
            "grid_auto_flow": null,
            "grid_auto_rows": null,
            "grid_column": null,
            "grid_gap": null,
            "grid_row": null,
            "grid_template_areas": null,
            "grid_template_columns": null,
            "grid_template_rows": null,
            "height": null,
            "justify_content": null,
            "justify_items": null,
            "left": null,
            "margin": null,
            "max_height": null,
            "max_width": null,
            "min_height": null,
            "min_width": null,
            "object_fit": null,
            "object_position": null,
            "order": null,
            "overflow": null,
            "overflow_x": null,
            "overflow_y": null,
            "padding": null,
            "right": null,
            "top": null,
            "visibility": null,
            "width": null
          }
        },
        "e1c1551f4e6c4170aef679ce660df7ac": {
          "model_module": "@jupyter-widgets/controls",
          "model_name": "DescriptionStyleModel",
          "model_module_version": "1.5.0",
          "state": {
            "_model_module": "@jupyter-widgets/controls",
            "_model_module_version": "1.5.0",
            "_model_name": "DescriptionStyleModel",
            "_view_count": null,
            "_view_module": "@jupyter-widgets/base",
            "_view_module_version": "1.2.0",
            "_view_name": "StyleView",
            "description_width": ""
          }
        }
      }
    },
    "accelerator": "GPU"
  },
  "cells": [
    {
      "cell_type": "markdown",
      "metadata": {
        "id": "view-in-github",
        "colab_type": "text"
      },
      "source": [
        "<a href=\"https://colab.research.google.com/github/iLikeKatz/MyLeaning_ML/blob/main/PytorchFullCourse/Models/Computer_Vision(CNN).ipynb\" target=\"_parent\"><img src=\"https://colab.research.google.com/assets/colab-badge.svg\" alt=\"Open In Colab\"/></a>"
      ]
    },
    {
      "cell_type": "code",
      "execution_count": 9,
      "metadata": {
        "id": "qvnygxGwuzrN"
      },
      "outputs": [],
      "source": [
        "import torch\n",
        "import torch.nn as nn\n",
        "import torchvision\n",
        "import torchvision.datasets\n",
        "import torchvision.transforms as transforms\n",
        "import matplotlib.pyplot as plt\n",
        "from sklearn.model_selection import train_test_split\n",
        "from sklearn.metrics import accuracy_score as acc\n",
        "import pandas as pd\n",
        "import numpy as np"
      ]
    },
    {
      "cell_type": "code",
      "source": [
        "device = \"cuda\" if torch.cuda.is_available() else \"cpu\"\n",
        "train_data = torchvision.datasets.FashionMNIST(root=\"Data\", train=True, transform=transforms.ToTensor(), download=True)\n",
        "test_data = torchvision.datasets.FashionMNIST(root=\"Data\", train=False, download=True, transform=transforms.ToTensor())\n",
        "image, label = train_data[0]\n",
        "\n",
        "classes_name = train_data.classes\n",
        "n_classes = len(train_data.classes)\n",
        "n_classes, image.shape"
      ],
      "metadata": {
        "colab": {
          "base_uri": "https://localhost:8080/"
        },
        "id": "p7HwLfS6YGp9",
        "outputId": "3d43feb2-037a-42c7-fbe1-6eff2a04969f"
      },
      "execution_count": 10,
      "outputs": [
        {
          "output_type": "execute_result",
          "data": {
            "text/plain": [
              "(10, torch.Size([1, 28, 28]))"
            ]
          },
          "metadata": {},
          "execution_count": 10
        }
      ]
    },
    {
      "cell_type": "code",
      "source": [
        "plt.imshow(image.reshape(28, 28, 1)) #since pytorch default set color channels at the fist of shape but plt require color channles at last position of shape\n",
        "plt.show()"
      ],
      "metadata": {
        "colab": {
          "base_uri": "https://localhost:8080/",
          "height": 430
        },
        "id": "HJohcVwaHw5s",
        "outputId": "a74ec4f8-10be-41aa-f2ca-67f74612bfc0"
      },
      "execution_count": 11,
      "outputs": [
        {
          "output_type": "display_data",
          "data": {
            "text/plain": [
              "<Figure size 640x480 with 1 Axes>"
            ],
            "image/png": "[encoded data removed]"
          },
          "metadata": {}
        }
      ]
    },
    {
      "cell_type": "code",
      "source": [
        "torch.manual_seed(42)\n",
        "fig = plt.figure(figsize=(9, 9))\n",
        "rows, cols = 3, 3\n",
        "for i in range(1, (rows*cols)+1):\n",
        "  random_idx = torch.randint(0, len(train_data), size=[1]).item()\n",
        "  img, label = train_data[random_idx]\n",
        "  fig.add_subplot(rows, cols, i)\n",
        "  plt.imshow(img.reshape(28, 28, 1), cmap='gray')\n",
        "  plt.title(classes_name[label])\n",
        "  plt.axis(False)"
      ],
      "metadata": {
        "colab": {
          "base_uri": "https://localhost:8080/",
          "height": 752
        },
        "id": "A3DeOGmVKIB7",
        "outputId": "13efd3a1-f08a-4156-cd3e-2581f486c251"
      },
      "execution_count": 12,
      "outputs": [
        {
          "output_type": "display_data",
          "data": {
            "text/plain": [
              "<Figure size 900x900 with 9 Axes>"
            ],
            "image/png": "[encoded data removed]"
          },
          "metadata": {}
        }
      ]
    },
    {
      "cell_type": "code",
      "source": [
        "from torch.utils.data import DataLoader\n",
        "\n",
        "batch_size = 32\n",
        "train_dataloader = DataLoader(dataset=train_data, batch_size=batch_size, shuffle=True)\n",
        "test_dataloader = DataLoader(dataset=test_data, batch_size=batch_size, shuffle=False)\n",
        "\n",
        "train_features_batch, train_label_batch = next(iter(train_dataloader))\n",
        "test_features_batch, train_label_batch = next(iter(test_dataloader))\n",
        "\n",
        "f = nn.Flatten()\n",
        "n_classes = len(train_label_batch.unique())\n",
        "n_features = f(train_features_batch).shape[1]\n",
        "n_channels = train_features_batch.shape[1]\n",
        "n_features, n_classes, n_channels\n"
      ],
      "metadata": {
        "colab": {
          "base_uri": "https://localhost:8080/"
        },
        "id": "3-pnyKH2PWyy",
        "outputId": "72b880d0-ffe5-46de-8f6e-610e26e6d6f0"
      },
      "execution_count": 13,
      "outputs": [
        {
          "output_type": "execute_result",
          "data": {
            "text/plain": [
              "(784, 10, 1)"
            ]
          },
          "metadata": {},
          "execution_count": 13
        }
      ]
    },
    {
      "cell_type": "code",
      "source": [
        "#Flatten\n",
        "x = train_features_batch[0]\n",
        "f = nn.Flatten()\n",
        "\n",
        "x = f(x)\n",
        "x.shape # x -> [color_channels, h*w] since because nn.Linear can't handle high dimens data"
      ],
      "metadata": {
        "colab": {
          "base_uri": "https://localhost:8080/"
        },
        "id": "w8GltARZiMua",
        "outputId": "6a2ea2c5-2ee7-43ef-ebb8-9e41b05ee563"
      },
      "execution_count": 14,
      "outputs": [
        {
          "output_type": "execute_result",
          "data": {
            "text/plain": [
              "torch.Size([1, 784])"
            ]
          },
          "metadata": {},
          "execution_count": 14
        }
      ]
    },
    {
      "cell_type": "markdown",
      "source": [],
      "metadata": {
        "id": "fw7PNqLV5sWf"
      }
    },
    {
      "cell_type": "code",
      "source": [
        "class fashionMNIST(nn.Module):\n",
        "  def __init__(self, in_features, out_features, hidden=10):\n",
        "    super().__init__()\n",
        "    self.conv_block1 = nn.Sequential(\n",
        "        nn.Conv2d(in_features, hidden, kernel_size=3, stride=1, padding=1), #it's different here if we use cnn, the in_features gotta be color channels\n",
        "        nn.ReLU(),\n",
        "        nn.Conv2d(hidden, hidden, kernel_size=3, stride=1, padding=1),\n",
        "        nn.ReLU(),\n",
        "        nn.MaxPool2d(kernel_size=2)\n",
        "    )\n",
        "\n",
        "    self.conv_block2 = nn.Sequential(\n",
        "        nn.Conv2d(hidden, hidden, kernel_size=3, stride=1, padding=1),\n",
        "        nn.ReLU(),\n",
        "        nn.Conv2d(hidden, hidden, kernel_size=3,  stride=1, padding=1),\n",
        "        nn.ReLU(),\n",
        "        nn.MaxPool2d(kernel_size=2)\n",
        "    )\n",
        "\n",
        "    self.classifier = nn.Sequential(\n",
        "        nn.Flatten(),\n",
        "        nn.Linear(hidden*7*7, out_features) #if you ask me why this is 7 it's because we start at 1, 28, 28 and through maxpool1 then it'll become 1, 14, 14 and in the last it through maxpool2 and it became 1, *7, 7* here is the point i know you'll understand\n",
        "        #if you ask again why it became 14 from 28 and 7 from 14, well, it because we've set maxpool kernel_size = 2, so it's simply maxpool gonna reduce our shape = shape/kernel_size, = 28/2 = 14, 14/2 = 7\n",
        "    )\n",
        "\n",
        "  def forward(self, x):\n",
        "    x = self.conv_block1(x)\n",
        "    x = self.conv_block2(x)\n",
        "    x = self.classifier(x)\n",
        "    return x\n",
        "\n",
        "model = fashionMNIST(n_channels, n_classes, hidden=60).to(device)"
      ],
      "metadata": {
        "id": "yrThGtZU5Iq2"
      },
      "execution_count": 17,
      "outputs": []
    },
    {
      "cell_type": "code",
      "source": [
        "loss_fn = nn.CrossEntropyLoss()\n",
        "optimizer = torch.optim.SGD(model.parameters(), lr=0.1)\n",
        "epochs = 3\n",
        "\n",
        "dummy = torch.rand(1, 1, 28, 28) # 28 -> 14 -> 7, in -> process, it though maxpool and delete some trashs of features so shape is reduced\n",
        "y_pred = model(dummy.to(device))\n",
        "y_pred"
      ],
      "metadata": {
        "id": "4914DhOQ9L2H",
        "colab": {
          "base_uri": "https://localhost:8080/"
        },
        "outputId": "cf597b18-3e98-4a53-a4ef-2928057fb95a"
      },
      "execution_count": 47,
      "outputs": [
        {
          "output_type": "execute_result",
          "data": {
            "text/plain": [
              "tensor([[-0.9878,  0.3168, -0.6510, -0.8709, -0.9997, -0.0826,  1.8478, -2.1310,\n",
              "          3.2778,  0.4291]], device='cuda:0', grad_fn=<AddmmBackward0>)"
            ]
          },
          "metadata": {},
          "execution_count": 47
        }
      ]
    },
    {
      "cell_type": "code",
      "source": [
        "from tqdm.auto import tqdm\n",
        "from timeit import default_timer as timer\n",
        "\n",
        "torch.manual_seed(42)\n",
        "startTime = timer()\n",
        "\n",
        "for epoch in tqdm(range(epochs)):\n",
        "  print(f\"Epoch : {epoch+1}/{epochs}\\n-----\")\n",
        "  loss_train = 0\n",
        "  for batch, (x, y) in enumerate(train_dataloader):\n",
        "    model.train()\n",
        "    x, y = x.to(device), y.to(device)\n",
        "    y_pred = model(x)\n",
        "    loss = loss_fn(y_pred, y)\n",
        "    loss_train += loss\n",
        "\n",
        "    optimizer.zero_grad()\n",
        "    loss.backward()\n",
        "    optimizer.step()\n",
        "\n",
        "    if batch %  400 == 0:\n",
        "      print(f\"looked at {batch*len(x)}/{len(train_dataloader.dataset)}, \")\n",
        "\n",
        "  loss_train /= len(train_dataloader)\n",
        "\n",
        "  model.eval()\n",
        "  loss_test, test_acc = 0, 0\n",
        "  with torch.inference_mode():\n",
        "    for x_test, y_test in test_dataloader:\n",
        "      x_test, y_test = x_test.to(device), y_test.to(device)\n",
        "      test_pred = model(x_test)\n",
        "      loss_test += loss_fn(test_pred, y_test)\n",
        "\n",
        "      test_acc += acc(y_test.cpu(), test_pred.argmax(dim=1).cpu())\n",
        "\n",
        "    loss_test /= len(test_dataloader)\n",
        "    test_acc /= len(test_dataloader)\n",
        "\n",
        "  print(f\"train loss : {loss_train:.4f} | test loss : {loss_test:.4f} | test acc : {test_acc*100}\")\n",
        "\n",
        "endTime = timer()\n",
        "total_train_time = endTime - startTime\n",
        "f\"total time : {total_train_time:.4f} sec\""
      ],
      "metadata": {
        "id": "O5vNV07Vx0Bz",
        "colab": {
          "base_uri": "https://localhost:8080/",
          "height": 483,
          "referenced_widgets": [
            "955bdb1578c642f6b1cf936d7ec87ac5",
            "fef62cb0786a461cb27c9db33ed5fdb4",
            "c25c728405de4478bb039113127764d8",
            "fdc8b8a0bfab4e28bcf1c772c7184b13",
            "4614b49501444a3d9c429d6169d1945c",
            "68e5e52f99a94117bf77b10b0b784e47",
            "ebe4cf1b6b2944a09342e6f402af71dd",
            "57c62ac085664397b068b936185a07d8",
            "3c2390330b0b447c895d5f61830358ef",
            "90e91ed531a84f01a47e744df332f1eb",
            "e1c1551f4e6c4170aef679ce660df7ac"
          ]
        },
        "outputId": "b8b75616-c1c0-4775-cd90-2fa946762c3d"
      },
      "execution_count": 19,
      "outputs": [
        {
          "output_type": "display_data",
          "data": {
            "text/plain": [
              "  0%|          | 0/3 [00:00<?, ?it/s]"
            ],
            "application/vnd.jupyter.widget-view+json": {
              "version_major": 2,
              "version_minor": 0,
              "model_id": "955bdb1578c642f6b1cf936d7ec87ac5"
            }
          },
          "metadata": {}
        },
        {
          "output_type": "stream",
          "name": "stdout",
          "text": [
            "Epoch : 1/3\n",
            "-----\n",
            "looked at 0/60000, \n",
            "looked at 12800/60000, \n",
            "looked at 25600/60000, \n",
            "looked at 38400/60000, \n",
            "looked at 51200/60000, \n",
            "train loss : 0.5509 | test loss : 0.3534 | test acc : 87.40015974440894\n",
            "Epoch : 2/3\n",
            "-----\n",
            "looked at 0/60000, \n",
            "looked at 12800/60000, \n",
            "looked at 25600/60000, \n",
            "looked at 38400/60000, \n",
            "looked at 51200/60000, \n",
            "train loss : 0.3165 | test loss : 0.3041 | test acc : 89.12739616613419\n",
            "Epoch : 3/3\n",
            "-----\n",
            "looked at 0/60000, \n",
            "looked at 12800/60000, \n",
            "looked at 25600/60000, \n",
            "looked at 38400/60000, \n",
            "looked at 51200/60000, \n",
            "train loss : 0.2740 | test loss : 0.2866 | test acc : 89.8861821086262\n"
          ]
        },
        {
          "output_type": "execute_result",
          "data": {
            "text/plain": [
              "'total time : 41.6997 sec'"
            ],
            "application/vnd.google.colaboratory.intrinsic+json": {
              "type": "string"
            }
          },
          "metadata": {},
          "execution_count": 19
        }
      ]
    },
    {
      "cell_type": "code",
      "source": [
        "def eval_model(model, dataloader, loss_fn, accuracy_fn, device):\n",
        "  loss, acc = 0, 0\n",
        "  model.eval()\n",
        "  with torch.inference_mode():\n",
        "    for x,y in dataloader:\n",
        "      x, y = x.to(device), y.to(device)\n",
        "      y_pred = model(x)\n",
        "      loss += loss_fn(y_pred, y)\n",
        "      acc += accuracy_fn(y.cpu(), y_pred.argmax(dim=1).cpu())\n",
        "\n",
        "    loss /= len(dataloader)\n",
        "    acc /= len(dataloader)\n",
        "\n",
        "  return {\"model_name : \" : model.__class__.__name__,\n",
        "              \"model_loss\" : loss.item(),\n",
        "              \"model_acc\" : acc*100\n",
        "          }"
      ],
      "metadata": {
        "id": "8fpeyToA6HZl"
      },
      "execution_count": 24,
      "outputs": []
    },
    {
      "cell_type": "code",
      "source": [
        "model_result = eval_model(model, test_dataloader, loss_fn, acc, device)\n",
        "model_result"
      ],
      "metadata": {
        "id": "qB0W5zu8C0_r",
        "colab": {
          "base_uri": "https://localhost:8080/"
        },
        "outputId": "bdca5b23-f978-48a0-908c-7c8b301232e4"
      },
      "execution_count": 25,
      "outputs": [
        {
          "output_type": "execute_result",
          "data": {
            "text/plain": [
              "{'model_name : ': 'fashionMNIST',\n",
              " 'model_loss': 0.28661641478538513,\n",
              " 'model_acc': 89.8861821086262}"
            ]
          },
          "metadata": {},
          "execution_count": 25
        }
      ]
    },
    {
      "cell_type": "code",
      "source": [
        "def train_model(model, dataloader, loss_fn, accuracy_fn, device=device):\n",
        "  loss_train, acc = 0, 0\n",
        "  for x, y in dataloader:\n",
        "    model.train()\n",
        "    x, y = x.to(device), y.to(device)\n",
        "    y_pred = model(x)\n",
        "    loss = loss_fn(y_pred, y)\n",
        "\n",
        "    loss_train += loss\n",
        "    acc += accuracy_fn(y.cpu(), y_pred.argmax(dim=1).cpu())\n",
        "\n",
        "    optimizer.zero_grad()\n",
        "    loss.backward()\n",
        "    optimizer.step()\n",
        "\n",
        "  loss_train /= len(dataloader)\n",
        "  acc /= len(dataloader)\n",
        "\n",
        "  return {\"loss_train\" : loss_train.item(),\n",
        "              \"acc\" : acc*100\n",
        "          }"
      ],
      "metadata": {
        "id": "u6QxzqQUIyPP"
      },
      "execution_count": 26,
      "outputs": []
    },
    {
      "cell_type": "code",
      "source": [
        "model_train = train_model(model, train_dataloader, loss_fn, acc, device)\n",
        "model_train"
      ],
      "metadata": {
        "id": "94B9KjsrJ9Lm",
        "colab": {
          "base_uri": "https://localhost:8080/"
        },
        "outputId": "b55630fe-9892-4a09-bf7c-fa1bd8ed0b6a"
      },
      "execution_count": 27,
      "outputs": [
        {
          "output_type": "execute_result",
          "data": {
            "text/plain": [
              "{'loss_train': 0.24796906113624573, 'acc': 91.04166666666667}"
            ]
          },
          "metadata": {},
          "execution_count": 27
        }
      ]
    },
    {
      "cell_type": "code",
      "source": [
        "import random\n",
        "test_sample = []\n",
        "test_label = []\n",
        "\n",
        "for sample, label in random.sample(list(test_data), k=9):\n",
        "  test_sample.append(sample)\n",
        "  test_label.append(label)"
      ],
      "metadata": {
        "id": "krV2sRTVkdIo"
      },
      "execution_count": 57,
      "outputs": []
    },
    {
      "cell_type": "code",
      "source": [
        "pred_probs = []\n",
        "with torch.inference_mode():\n",
        "  for x in test_sample:\n",
        "    x, y = x.to(device), y.to(device)\n",
        "    y_pred  = model(x.unsqueeze(0))\n",
        "    y_pred = torch.softmax(y_pred.squeeze(), dim=0)\n",
        "    pred_probs.append(y_pred.cpu())\n",
        "\n",
        "  pred_probs = torch.stack(pred_probs)\n",
        "pred_probs.shape"
      ],
      "metadata": {
        "colab": {
          "base_uri": "https://localhost:8080/"
        },
        "id": "7VaE28PelVur",
        "outputId": "1deb7042-6bbf-4f3e-ef30-5f901247e8a3"
      },
      "execution_count": 58,
      "outputs": [
        {
          "output_type": "execute_result",
          "data": {
            "text/plain": [
              "torch.Size([9, 10])"
            ]
          },
          "metadata": {},
          "execution_count": 58
        }
      ]
    },
    {
      "cell_type": "code",
      "source": [
        "pred_classes = pred_probs.argmax(1)\n",
        "\n",
        "plt.figure(figsize=(9, 9))\n",
        "row, col = 3, 3\n",
        "for i, sample in enumerate(test_sample):\n",
        "  plt.subplot(row, col, i+1)\n",
        "  plt.imshow(sample.squeeze())\n",
        "  pred_label = classes_name[pred_classes[i]]\n",
        "  tru_label = classes_name[test_label[i]]\n",
        "  text = f\"truth : {tru_label}, pred : {pred_label}\"\n",
        "  plt.axis(False)\n",
        "\n",
        "  if pred_label == tru_label:\n",
        "    plt.title(text, c='green')\n",
        "  else :\n",
        "    plt.title(text, c='red')"
      ],
      "metadata": {
        "colab": {
          "base_uri": "https://localhost:8080/",
          "height": 752
        },
        "id": "temufcIlqZdN",
        "outputId": "9f3bea4e-59e9-4fa7-f94d-e382b5e3a651"
      },
      "execution_count": 59,
      "outputs": [
        {
          "output_type": "display_data",
          "data": {
            "text/plain": [
              "<Figure size 900x900 with 9 Axes>"
            ],
            "image/png": "[encoded data removed]"
          },
          "metadata": {}
        }
      ]
    }
  ]
}