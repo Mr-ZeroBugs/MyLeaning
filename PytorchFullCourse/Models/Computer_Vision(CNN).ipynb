{
  "nbformat": 4,
  "nbformat_minor": 0,
  "metadata": {
    "colab": {
      "provenance": [],
      "authorship_tag": "ABX9TyM6j5hOCqU7Fwu3e48pUuD1",
      "include_colab_link": true
    },
    "kernelspec": {
      "name": "python3",
      "display_name": "Python 3"
    },
    "language_info": {
      "name": "python"
    },
    "widgets": {
      "application/vnd.jupyter.widget-state+json": {
        "9069292c44dd4f648b5e73205179c085": {
          "model_module": "@jupyter-widgets/controls",
          "model_name": "HBoxModel",
          "model_module_version": "1.5.0",
          "state": {
            "_dom_classes": [],
            "_model_module": "@jupyter-widgets/controls",
            "_model_module_version": "1.5.0",
            "_model_name": "HBoxModel",
            "_view_count": null,
            "_view_module": "@jupyter-widgets/controls",
            "_view_module_version": "1.5.0",
            "_view_name": "HBoxView",
            "box_style": "",
            "children": [
              "IPY_MODEL_fdad24c329fc444194fdbae0d2273fa2",
              "IPY_MODEL_47b51cc6b72e47bc8fd0e244a7a5eb9f",
              "IPY_MODEL_6f46aa847e76473fb9f201af0a8e3b0c"
            ],
            "layout": "IPY_MODEL_0f806434e04a49e297397afbed090e1c"
          }
        },
        "fdad24c329fc444194fdbae0d2273fa2": {
          "model_module": "@jupyter-widgets/controls",
          "model_name": "HTMLModel",
          "model_module_version": "1.5.0",
          "state": {
            "_dom_classes": [],
            "_model_module": "@jupyter-widgets/controls",
            "_model_module_version": "1.5.0",
            "_model_name": "HTMLModel",
            "_view_count": null,
            "_view_module": "@jupyter-widgets/controls",
            "_view_module_version": "1.5.0",
            "_view_name": "HTMLView",
            "description": "",
            "description_tooltip": null,
            "layout": "IPY_MODEL_9e231042d20f4d128b56a0f383580999",
            "placeholder": "​",
            "style": "IPY_MODEL_838187102a33458a96d5247e118343b4",
            "value": "100%"
          }
        },
        "47b51cc6b72e47bc8fd0e244a7a5eb9f": {
          "model_module": "@jupyter-widgets/controls",
          "model_name": "FloatProgressModel",
          "model_module_version": "1.5.0",
          "state": {
            "_dom_classes": [],
            "_model_module": "@jupyter-widgets/controls",
            "_model_module_version": "1.5.0",
            "_model_name": "FloatProgressModel",
            "_view_count": null,
            "_view_module": "@jupyter-widgets/controls",
            "_view_module_version": "1.5.0",
            "_view_name": "ProgressView",
            "bar_style": "success",
            "description": "",
            "description_tooltip": null,
            "layout": "IPY_MODEL_f343020865e24063b8af2fa54319d205",
            "max": 3,
            "min": 0,
            "orientation": "horizontal",
            "style": "IPY_MODEL_b59a073510f446bca6dee3c3cf732652",
            "value": 3
          }
        },
        "6f46aa847e76473fb9f201af0a8e3b0c": {
          "model_module": "@jupyter-widgets/controls",
          "model_name": "HTMLModel",
          "model_module_version": "1.5.0",
          "state": {
            "_dom_classes": [],
            "_model_module": "@jupyter-widgets/controls",
            "_model_module_version": "1.5.0",
            "_model_name": "HTMLModel",
            "_view_count": null,
            "_view_module": "@jupyter-widgets/controls",
            "_view_module_version": "1.5.0",
            "_view_name": "HTMLView",
            "description": "",
            "description_tooltip": null,
            "layout": "IPY_MODEL_afe406c569f5492e9a0ddbf09a6cbd9a",
            "placeholder": "​",
            "style": "IPY_MODEL_81f989ac850c46d49c9fbdffe3101ac8",
            "value": " 3/3 [07:38&lt;00:00, 152.65s/it]"
          }
        },
        "0f806434e04a49e297397afbed090e1c": {
          "model_module": "@jupyter-widgets/base",
          "model_name": "LayoutModel",
          "model_module_version": "1.2.0",
          "state": {
            "_model_module": "@jupyter-widgets/base",
            "_model_module_version": "1.2.0",
            "_model_name": "LayoutModel",
            "_view_count": null,
            "_view_module": "@jupyter-widgets/base",
            "_view_module_version": "1.2.0",
            "_view_name": "LayoutView",
            "align_content": null,
            "align_items": null,
            "align_self": null,
            "border": null,
            "bottom": null,
            "display": null,
            "flex": null,
            "flex_flow": null,
            "grid_area": null,
            "grid_auto_columns": null,
            "grid_auto_flow": null,
            "grid_auto_rows": null,
            "grid_column": null,
            "grid_gap": null,
            "grid_row": null,
            "grid_template_areas": null,
            "grid_template_columns": null,
            "grid_template_rows": null,
            "height": null,
            "justify_content": null,
            "justify_items": null,
            "left": null,
            "margin": null,
            "max_height": null,
            "max_width": null,
            "min_height": null,
            "min_width": null,
            "object_fit": null,
            "object_position": null,
            "order": null,
            "overflow": null,
            "overflow_x": null,
            "overflow_y": null,
            "padding": null,
            "right": null,
            "top": null,
            "visibility": null,
            "width": null
          }
        },
        "9e231042d20f4d128b56a0f383580999": {
          "model_module": "@jupyter-widgets/base",
          "model_name": "LayoutModel",
          "model_module_version": "1.2.0",
          "state": {
            "_model_module": "@jupyter-widgets/base",
            "_model_module_version": "1.2.0",
            "_model_name": "LayoutModel",
            "_view_count": null,
            "_view_module": "@jupyter-widgets/base",
            "_view_module_version": "1.2.0",
            "_view_name": "LayoutView",
            "align_content": null,
            "align_items": null,
            "align_self": null,
            "border": null,
            "bottom": null,
            "display": null,
            "flex": null,
            "flex_flow": null,
            "grid_area": null,
            "grid_auto_columns": null,
            "grid_auto_flow": null,
            "grid_auto_rows": null,
            "grid_column": null,
            "grid_gap": null,
            "grid_row": null,
            "grid_template_areas": null,
            "grid_template_columns": null,
            "grid_template_rows": null,
            "height": null,
            "justify_content": null,
            "justify_items": null,
            "left": null,
            "margin": null,
            "max_height": null,
            "max_width": null,
            "min_height": null,
            "min_width": null,
            "object_fit": null,
            "object_position": null,
            "order": null,
            "overflow": null,
            "overflow_x": null,
            "overflow_y": null,
            "padding": null,
            "right": null,
            "top": null,
            "visibility": null,
            "width": null
          }
        },
        "838187102a33458a96d5247e118343b4": {
          "model_module": "@jupyter-widgets/controls",
          "model_name": "DescriptionStyleModel",
          "model_module_version": "1.5.0",
          "state": {
            "_model_module": "@jupyter-widgets/controls",
            "_model_module_version": "1.5.0",
            "_model_name": "DescriptionStyleModel",
            "_view_count": null,
            "_view_module": "@jupyter-widgets/base",
            "_view_module_version": "1.2.0",
            "_view_name": "StyleView",
            "description_width": ""
          }
        },
        "f343020865e24063b8af2fa54319d205": {
          "model_module": "@jupyter-widgets/base",
          "model_name": "LayoutModel",
          "model_module_version": "1.2.0",
          "state": {
            "_model_module": "@jupyter-widgets/base",
            "_model_module_version": "1.2.0",
            "_model_name": "LayoutModel",
            "_view_count": null,
            "_view_module": "@jupyter-widgets/base",
            "_view_module_version": "1.2.0",
            "_view_name": "LayoutView",
            "align_content": null,
            "align_items": null,
            "align_self": null,
            "border": null,
            "bottom": null,
            "display": null,
            "flex": null,
            "flex_flow": null,
            "grid_area": null,
            "grid_auto_columns": null,
            "grid_auto_flow": null,
            "grid_auto_rows": null,
            "grid_column": null,
            "grid_gap": null,
            "grid_row": null,
            "grid_template_areas": null,
            "grid_template_columns": null,
            "grid_template_rows": null,
            "height": null,
            "justify_content": null,
            "justify_items": null,
            "left": null,
            "margin": null,
            "max_height": null,
            "max_width": null,
            "min_height": null,
            "min_width": null,
            "object_fit": null,
            "object_position": null,
            "order": null,
            "overflow": null,
            "overflow_x": null,
            "overflow_y": null,
            "padding": null,
            "right": null,
            "top": null,
            "visibility": null,
            "width": null
          }
        },
        "b59a073510f446bca6dee3c3cf732652": {
          "model_module": "@jupyter-widgets/controls",
          "model_name": "ProgressStyleModel",
          "model_module_version": "1.5.0",
          "state": {
            "_model_module": "@jupyter-widgets/controls",
            "_model_module_version": "1.5.0",
            "_model_name": "ProgressStyleModel",
            "_view_count": null,
            "_view_module": "@jupyter-widgets/base",
            "_view_module_version": "1.2.0",
            "_view_name": "StyleView",
            "bar_color": null,
            "description_width": ""
          }
        },
        "afe406c569f5492e9a0ddbf09a6cbd9a": {
          "model_module": "@jupyter-widgets/base",
          "model_name": "LayoutModel",
          "model_module_version": "1.2.0",
          "state": {
            "_model_module": "@jupyter-widgets/base",
            "_model_module_version": "1.2.0",
            "_model_name": "LayoutModel",
            "_view_count": null,
            "_view_module": "@jupyter-widgets/base",
            "_view_module_version": "1.2.0",
            "_view_name": "LayoutView",
            "align_content": null,
            "align_items": null,
            "align_self": null,
            "border": null,
            "bottom": null,
            "display": null,
            "flex": null,
            "flex_flow": null,
            "grid_area": null,
            "grid_auto_columns": null,
            "grid_auto_flow": null,
            "grid_auto_rows": null,
            "grid_column": null,
            "grid_gap": null,
            "grid_row": null,
            "grid_template_areas": null,
            "grid_template_columns": null,
            "grid_template_rows": null,
            "height": null,
            "justify_content": null,
            "justify_items": null,
            "left": null,
            "margin": null,
            "max_height": null,
            "max_width": null,
            "min_height": null,
            "min_width": null,
            "object_fit": null,
            "object_position": null,
            "order": null,
            "overflow": null,
            "overflow_x": null,
            "overflow_y": null,
            "padding": null,
            "right": null,
            "top": null,
            "visibility": null,
            "width": null
          }
        },
        "81f989ac850c46d49c9fbdffe3101ac8": {
          "model_module": "@jupyter-widgets/controls",
          "model_name": "DescriptionStyleModel",
          "model_module_version": "1.5.0",
          "state": {
            "_model_module": "@jupyter-widgets/controls",
            "_model_module_version": "1.5.0",
            "_model_name": "DescriptionStyleModel",
            "_view_count": null,
            "_view_module": "@jupyter-widgets/base",
            "_view_module_version": "1.2.0",
            "_view_name": "StyleView",
            "description_width": ""
          }
        }
      }
    }
  },
  "cells": [
    {
      "cell_type": "markdown",
      "metadata": {
        "id": "view-in-github",
        "colab_type": "text"
      },
      "source": [
        "<a href=\"https://colab.research.google.com/github/iLikeKatz/MyLeaning_ML/blob/main/PytorchFullCourse/Models/Computer_Vision(CNN).ipynb\" target=\"_parent\"><img src=\"https://colab.research.google.com/assets/colab-badge.svg\" alt=\"Open In Colab\"/></a>"
      ]
    },
    {
      "cell_type": "code",
      "execution_count": 63,
      "metadata": {
        "id": "qvnygxGwuzrN"
      },
      "outputs": [],
      "source": [
        "import torch\n",
        "import torch.nn as nn\n",
        "import torchvision\n",
        "import torchvision.datasets\n",
        "import torchvision.transforms as transforms\n",
        "import matplotlib.pyplot as plt\n",
        "from sklearn.model_selection import train_test_split\n",
        "from sklearn.metrics import accuracy_score as acc\n",
        "import pandas as pd\n",
        "import numpy as np"
      ]
    },
    {
      "cell_type": "code",
      "source": [
        "device = \"cuda\" if torch.cuda.is_available() else \"cpu\"\n",
        "train_data = torchvision.datasets.FashionMNIST(root=\"Data\", train=True, transform=transforms.ToTensor(), download=True)\n",
        "test_data = torchvision.datasets.FashionMNIST(root=\"Data\", train=False, download=True, transform=transforms.ToTensor())\n",
        "image, label = train_data[0]\n",
        "\n",
        "classes_name = train_data.classes\n",
        "n_classes = len(train_data.classes)\n",
        "n_classes, image.shape"
      ],
      "metadata": {
        "colab": {
          "base_uri": "https://localhost:8080/"
        },
        "id": "p7HwLfS6YGp9",
        "outputId": "e94c15d5-ed31-4c35-bd04-8740b6fd1a8a"
      },
      "execution_count": 64,
      "outputs": [
        {
          "output_type": "execute_result",
          "data": {
            "text/plain": [
              "(10, torch.Size([1, 28, 28]))"
            ]
          },
          "metadata": {},
          "execution_count": 64
        }
      ]
    },
    {
      "cell_type": "code",
      "source": [
        "plt.imshow(image.reshape(28, 28, 1)) #since pytorch default set color channels at the fist of shape but plt require color channles at last position of shape\n",
        "plt.show()"
      ],
      "metadata": {
        "colab": {
          "base_uri": "https://localhost:8080/",
          "height": 430
        },
        "id": "HJohcVwaHw5s",
        "outputId": "c590789d-445b-4a5b-c922-4fd036042a71"
      },
      "execution_count": 65,
      "outputs": [
        {
          "output_type": "display_data",
          "data": {
            "text/plain": [
              "<Figure size 640x480 with 1 Axes>"
            ],
            "image/png": "[encoded data removed]"
          },
          "metadata": {}
        }
      ]
    },
    {
      "cell_type": "code",
      "source": [
        "torch.manual_seed(42)\n",
        "fig = plt.figure(figsize=(9, 9))\n",
        "rows, cols = 3, 3\n",
        "for i in range(1, (rows*cols)+1):\n",
        "  random_idx = torch.randint(0, len(train_data), size=[1]).item()\n",
        "  img, label = train_data[random_idx]\n",
        "  fig.add_subplot(rows, cols, i)\n",
        "  plt.imshow(img.reshape(28, 28, 1), cmap='gray')\n",
        "  plt.title(classes_name[label])\n",
        "  plt.axis(False)"
      ],
      "metadata": {
        "colab": {
          "base_uri": "https://localhost:8080/",
          "height": 752
        },
        "id": "A3DeOGmVKIB7",
        "outputId": "a7dcfec7-9e92-4110-f4ce-72c0efe89c32"
      },
      "execution_count": 66,
      "outputs": [
        {
          "output_type": "display_data",
          "data": {
            "text/plain": [
              "<Figure size 900x900 with 9 Axes>"
            ],
            "image/png": "[encoded data removed]"
          },
          "metadata": {}
        }
      ]
    },
    {
      "cell_type": "code",
      "source": [
        "from torch.utils.data import DataLoader\n",
        "\n",
        "batch_size = 32\n",
        "train_dataloader = DataLoader(dataset=train_data, batch_size=batch_size, shuffle=True)\n",
        "test_dataloader = DataLoader(dataset=test_data, batch_size=batch_size, shuffle=False)\n",
        "\n",
        "train_features_batch, train_label_batch = next(iter(train_dataloader))\n",
        "test_features_batch, train_label_batch = next(iter(test_dataloader))\n",
        "\n",
        "f = nn.Flatten()\n",
        "n_classes = len(train_label_batch.unique())\n",
        "n_features = f(train_features_batch).shape[1]\n",
        "n_channels = train_features_batch.shape[1]\n",
        "n_features, n_classes, n_channels\n"
      ],
      "metadata": {
        "colab": {
          "base_uri": "https://localhost:8080/"
        },
        "id": "3-pnyKH2PWyy",
        "outputId": "8637f3b3-5ed5-4a6d-b80b-957a8fb9e0d9"
      },
      "execution_count": 67,
      "outputs": [
        {
          "output_type": "execute_result",
          "data": {
            "text/plain": [
              "(784, 10, 1)"
            ]
          },
          "metadata": {},
          "execution_count": 67
        }
      ]
    },
    {
      "cell_type": "code",
      "source": [
        "#Flatten\n",
        "x = train_features_batch[0]\n",
        "f = nn.Flatten()\n",
        "\n",
        "x = f(x)\n",
        "x.shape # x -> [color_channels, h*w] since because nn.Linear can't handle high dimens data"
      ],
      "metadata": {
        "colab": {
          "base_uri": "https://localhost:8080/"
        },
        "id": "w8GltARZiMua",
        "outputId": "adee3629-76b0-474c-b4b4-709ec00ffce0"
      },
      "execution_count": 68,
      "outputs": [
        {
          "output_type": "execute_result",
          "data": {
            "text/plain": [
              "torch.Size([1, 784])"
            ]
          },
          "metadata": {},
          "execution_count": 68
        }
      ]
    },
    {
      "cell_type": "markdown",
      "source": [],
      "metadata": {
        "id": "fw7PNqLV5sWf"
      }
    },
    {
      "cell_type": "code",
      "source": [
        "class fashionMNIST(nn.Module):\n",
        "  def __init__(self, in_features, out_features, hidden=10):\n",
        "    super().__init__()\n",
        "    self.conv_block1 = nn.Sequential(\n",
        "        nn.Conv2d(in_features, hidden, kernel_size=3, stride=1, padding=1), #it's different here if we use cnn, the in_features gotta be color channels\n",
        "        nn.ReLU(),\n",
        "        nn.Conv2d(hidden, hidden, kernel_size=3, stride=1, padding=1),\n",
        "        nn.ReLU(),\n",
        "        nn.MaxPool2d(kernel_size=2)\n",
        "    )\n",
        "\n",
        "    self.conv_block2 = nn.Sequential(\n",
        "        nn.Conv2d(hidden, hidden, kernel_size=3, stride=1, padding=1),\n",
        "        nn.ReLU(),\n",
        "        nn.Conv2d(hidden, hidden, kernel_size=3, stride=1, padding=1),\n",
        "        nn.ReLU(),\n",
        "        nn.MaxPool2d(kernel_size=2)\n",
        "    )\n",
        "\n",
        "    self.classifier = nn.Sequential(\n",
        "        nn.Flatten(),\n",
        "        nn.Linear(hidden*7*7, out_features) #if you ask me why this is 7 it's because we start at 1, 28, 28 and through maxpool1 then it'll become 1, 14, 14 and in the last it through maxpool2 and it became 1, *7, 7* here is the point i know you'll understand\n",
        "        #if you ask again why it became 14 from 28 and 7 from 14, well, it because we've set maxpool kernel_size = 2, so it's simply maxpool gonna reduce our shape = shape/kernel_size, = 28/2 = 14, 14/2 = 7\n",
        "    )\n",
        "\n",
        "  def forward(self, x):\n",
        "    x = self.conv_block1(x)\n",
        "    x = self.conv_block2(x)\n",
        "    x = self.classifier(x)\n",
        "    return x\n",
        "\n",
        "model = fashionMNIST(n_channels, n_classes, hidden=30).to(device)"
      ],
      "metadata": {
        "id": "yrThGtZU5Iq2"
      },
      "execution_count": 69,
      "outputs": []
    },
    {
      "cell_type": "code",
      "source": [
        "loss_fn = nn.CrossEntropyLoss()\n",
        "optimizer = torch.optim.SGD(model.parameters(), lr=0.1)\n",
        "epochs = 3\n",
        "\n",
        "dummy = torch.rand(1, 1, 28, 28) # 28 -> 14 -> 7, in -> process, it though maxpool and delete some trashs of features so shape is reduced\n",
        "y_pred = model(dummy)\n",
        "y_pred"
      ],
      "metadata": {
        "id": "4914DhOQ9L2H",
        "colab": {
          "base_uri": "https://localhost:8080/"
        },
        "outputId": "42715df2-a6df-4c39-adce-e61a274f2a0c"
      },
      "execution_count": 70,
      "outputs": [
        {
          "output_type": "execute_result",
          "data": {
            "text/plain": [
              "tensor([[ 3.7326e-02, -4.4952e-04, -2.4661e-02, -1.2937e-02, -1.1775e-02,\n",
              "         -1.7604e-02, -7.0183e-05,  3.0803e-03,  4.4498e-02,  3.2177e-02]],\n",
              "       grad_fn=<AddmmBackward0>)"
            ]
          },
          "metadata": {},
          "execution_count": 70
        }
      ]
    },
    {
      "cell_type": "code",
      "source": [
        "from tqdm.auto import tqdm\n",
        "from timeit import default_timer as timer\n",
        "\n",
        "torch.manual_seed(42)\n",
        "startTime = timer()\n",
        "\n",
        "for epoch in tqdm(range(epochs)):\n",
        "  print(f\"Epoch : {epoch+1}/{epochs}\\n-----\")\n",
        "  loss_train = 0\n",
        "  for batch, (x, y) in enumerate(train_dataloader):\n",
        "    model.train()\n",
        "    x, y = x.to(device), y.to(device)\n",
        "    y_pred = model(x)\n",
        "    loss = loss_fn(y_pred, y)\n",
        "    loss_train += loss\n",
        "\n",
        "    optimizer.zero_grad()\n",
        "    loss.backward()\n",
        "    optimizer.step()\n",
        "\n",
        "    if batch %  400 == 0:\n",
        "      print(f\"looked at {batch*len(x)}/{len(train_dataloader.dataset)}, \")\n",
        "\n",
        "  loss_train /= len(train_dataloader)\n",
        "\n",
        "  model.eval()\n",
        "  loss_test, test_acc = 0, 0\n",
        "  with torch.inference_mode():\n",
        "    for x_test, y_test in test_dataloader:\n",
        "      x_test, y_test = x_test.to(device), y_test.to(device)\n",
        "      test_pred = model(x_test)\n",
        "      loss_test += loss_fn(test_pred, y_test)\n",
        "\n",
        "      test_acc += acc(y_test.cpu(), test_pred.argmax(dim=1).cpu())\n",
        "\n",
        "    loss_test /= len(test_dataloader)\n",
        "    test_acc /= len(test_dataloader)\n",
        "\n",
        "  print(f\"train loss : {loss_train:.4f} | test loss : {loss_test:.4f} | test acc : {test_acc*100}\")\n",
        "\n",
        "endTime = timer()\n",
        "total_train_time = endTime - startTime\n",
        "f\"total time : {total_train_time:.4f} sec\""
      ],
      "metadata": {
        "id": "O5vNV07Vx0Bz",
        "colab": {
          "base_uri": "https://localhost:8080/",
          "height": 483,
          "referenced_widgets": [
            "9069292c44dd4f648b5e73205179c085",
            "fdad24c329fc444194fdbae0d2273fa2",
            "47b51cc6b72e47bc8fd0e244a7a5eb9f",
            "6f46aa847e76473fb9f201af0a8e3b0c",
            "0f806434e04a49e297397afbed090e1c",
            "9e231042d20f4d128b56a0f383580999",
            "838187102a33458a96d5247e118343b4",
            "f343020865e24063b8af2fa54319d205",
            "b59a073510f446bca6dee3c3cf732652",
            "afe406c569f5492e9a0ddbf09a6cbd9a",
            "81f989ac850c46d49c9fbdffe3101ac8"
          ]
        },
        "outputId": "822db3f5-8a9f-432f-cfb4-97b50bf478d0"
      },
      "execution_count": 71,
      "outputs": [
        {
          "output_type": "display_data",
          "data": {
            "text/plain": [
              "  0%|          | 0/3 [00:00<?, ?it/s]"
            ],
            "application/vnd.jupyter.widget-view+json": {
              "version_major": 2,
              "version_minor": 0,
              "model_id": "9069292c44dd4f648b5e73205179c085"
            }
          },
          "metadata": {}
        },
        {
          "output_type": "stream",
          "name": "stdout",
          "text": [
            "Epoch : 1/3\n",
            "-----\n",
            "looked at 0/60000, \n",
            "looked at 12800/60000, \n",
            "looked at 25600/60000, \n",
            "looked at 38400/60000, \n",
            "looked at 51200/60000, \n",
            "train loss : 0.5460 | test loss : 0.3591 | test acc : 87.34025559105432\n",
            "Epoch : 2/3\n",
            "-----\n",
            "looked at 0/60000, \n",
            "looked at 12800/60000, \n",
            "looked at 25600/60000, \n",
            "looked at 38400/60000, \n",
            "looked at 51200/60000, \n",
            "train loss : 0.3187 | test loss : 0.3036 | test acc : 88.7879392971246\n",
            "Epoch : 3/3\n",
            "-----\n",
            "looked at 0/60000, \n",
            "looked at 12800/60000, \n",
            "looked at 25600/60000, \n",
            "looked at 38400/60000, \n",
            "looked at 51200/60000, \n",
            "train loss : 0.2767 | test loss : 0.2806 | test acc : 89.9161341853035\n"
          ]
        },
        {
          "output_type": "execute_result",
          "data": {
            "text/plain": [
              "'total time : 458.2275 sec'"
            ],
            "application/vnd.google.colaboratory.intrinsic+json": {
              "type": "string"
            }
          },
          "metadata": {},
          "execution_count": 71
        }
      ]
    },
    {
      "cell_type": "code",
      "source": [
        "def eval_model(model, dataloader, loss_fn, accuracy_fn):\n",
        "  loss, acc = 0, 0\n",
        "  model.eval()\n",
        "  with torch.inference_mode():\n",
        "    for x,y in dataloader:\n",
        "      y_pred = model(x)\n",
        "      loss += loss_fn(y_pred, y)\n",
        "      acc += accuracy_fn(y, y_pred.argmax(dim=1))\n",
        "\n",
        "    loss /= len(dataloader)\n",
        "    acc /= len(dataloader)\n",
        "\n",
        "  return {\"model_name : \" : model.__class__.__name__,\n",
        "              \"model_loss\" : loss.item(),\n",
        "              \"model_acc\" : acc*100\n",
        "          }"
      ],
      "metadata": {
        "id": "8fpeyToA6HZl"
      },
      "execution_count": 72,
      "outputs": []
    },
    {
      "cell_type": "code",
      "source": [
        "model_result = eval_model(model, test_dataloader, loss_fn, acc)\n",
        "model_result"
      ],
      "metadata": {
        "id": "qB0W5zu8C0_r",
        "colab": {
          "base_uri": "https://localhost:8080/"
        },
        "outputId": "f784029d-b52c-4c9b-af1f-d819d2f47f7e"
      },
      "execution_count": 73,
      "outputs": [
        {
          "output_type": "execute_result",
          "data": {
            "text/plain": [
              "{'model_name : ': 'fashionMNIST',\n",
              " 'model_loss': 0.28060823678970337,\n",
              " 'model_acc': 89.9161341853035}"
            ]
          },
          "metadata": {},
          "execution_count": 73
        }
      ]
    },
    {
      "cell_type": "code",
      "source": [
        "def train_model(model, dataloader, loss_fn, accuracy_fn, device=device):\n",
        "  loss_train, acc = 0, 0\n",
        "  for x, y in dataloader:\n",
        "    model.train()\n",
        "    x, y = x.to(device), y.to(device)\n",
        "    y_pred = model(x)\n",
        "    loss = loss_fn(y_pred, y)\n",
        "\n",
        "    loss_train += loss\n",
        "    acc += accuracy_fn(y.cpu(), y_pred.argmax(dim=1).cpu())\n",
        "\n",
        "    optimizer.zero_grad()\n",
        "    loss.backward()\n",
        "    optimizer.step()\n",
        "\n",
        "  loss_train /= len(dataloader)\n",
        "  acc /= len(dataloader)\n",
        "\n",
        "  return {\"loss_train\" : loss_train.item(),\n",
        "              \"acc\" : acc*100\n",
        "          }"
      ],
      "metadata": {
        "id": "u6QxzqQUIyPP"
      },
      "execution_count": 74,
      "outputs": []
    },
    {
      "cell_type": "code",
      "source": [
        "model_train = train_model(model, train_dataloader, loss_fn, acc, device)\n",
        "model_train"
      ],
      "metadata": {
        "id": "94B9KjsrJ9Lm",
        "colab": {
          "base_uri": "https://localhost:8080/"
        },
        "outputId": "1029657d-52e7-4b8c-c2aa-af434bba3a1e"
      },
      "execution_count": 75,
      "outputs": [
        {
          "output_type": "execute_result",
          "data": {
            "text/plain": [
              "{'loss_train': 0.25192517042160034, 'acc': 90.89333333333333}"
            ]
          },
          "metadata": {},
          "execution_count": 75
        }
      ]
    }
  ]
}