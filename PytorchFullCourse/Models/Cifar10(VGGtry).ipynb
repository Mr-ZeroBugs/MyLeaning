{
 "cells": [
  {
   "cell_type": "markdown",
   "id": "431dc259-37da-4e96-85da-19e5edea23ab",
   "metadata": {},
   "source": [
    "# "
   ]
  },
  {
   "cell_type": "code",
   "execution_count": 1,
   "id": "cc8d1568-f8be-48d2-be92-bf2bf849b308",
   "metadata": {},
   "outputs": [],
   "source": [
    "from torchvision import datasets\n",
    "from torch.utils.data import DataLoader\n",
    "import torch\n",
    "from torch import nn\n",
    "from sklearn.metrics import accuracy_score as acc\n",
    "import matplotlib.pyplot as plt\n",
    "from torchvision import transforms"
   ]
  },
  {
   "cell_type": "code",
   "execution_count": 2,
   "id": "c6e487cc-81de-4933-82c9-fefed8fb958a",
   "metadata": {},
   "outputs": [
    {
     "name": "stdout",
     "output_type": "stream",
     "text": [
      "Files already downloaded and verified\n",
      "Files already downloaded and verified\n"
     ]
    },
    {
     "data": {
      "text/plain": [
       "(3, 10)"
      ]
     },
     "execution_count": 2,
     "metadata": {},
     "output_type": "execute_result"
    }
   ],
   "source": [
    "trans = transforms.Compose([\n",
    "    transforms.RandomHorizontalFlip(),\n",
    "    transforms.TrivialAugmentWide(),\n",
    "    transforms.ToTensor()\n",
    "])\n",
    "train_data = datasets.CIFAR10(root=\"data\",  train=True, download=True, transform=trans)\n",
    "test_data = datasets.CIFAR10(root=\"data\", train=False, download=True, transform=transforms.ToTensor())\n",
    "\n",
    "img, label = train_data[0]\n",
    "n_channels = img.shape[0]\n",
    "n_classes = len(train_data.classes)\n",
    "\n",
    "n_channels, n_classes"
   ]
  },
  {
   "cell_type": "code",
   "execution_count": 3,
   "id": "df982b7c-4864-494d-a430-f094d723e9d5",
   "metadata": {},
   "outputs": [],
   "source": [
    "batch_size = 20\n",
    "train_dataloader = DataLoader(dataset=train_data, batch_size=batch_size, shuffle=True, num_workers=5)\n",
    "test_dataloader = DataLoader(dataset=test_data, batch_size=batch_size, shuffle=False, num_workers=5)"
   ]
  },
  {
   "cell_type": "code",
   "execution_count": 4,
   "id": "e3f56fb3-0c0c-4df6-b538-eba0987acbe7",
   "metadata": {},
   "outputs": [],
   "source": [
    "import torch.nn.init as init\n",
    "import torch.nn.functional as F\n",
    "class CIFAR100(nn.Module):\n",
    "    def __init__(self, in_features, out_features, hidden=300):\n",
    "        super().__init__()\n",
    "        self.conv1 = nn.Conv2d(in_features, hidden, kernel_size=2)\n",
    "        self.bn = nn.BatchNorm2d(hidden)\n",
    "        self.conv2 = nn.Conv2d(hidden, hidden, kernel_size=5, padding=1)\n",
    "        self.maxpool1 = nn.MaxPool2d(kernel_size=3, stride=2)\n",
    "        self.maxpool2 = nn.MaxPool2d(kernel_size=2, stride=1)\n",
    "        self.fc1 = nn.Linear(hidden*12*12, hidden*2)\n",
    "        self.fc2 = nn.Linear(hidden*2, hidden*2)\n",
    "        self.fc3 = nn.Linear(hidden*2, out_features)\n",
    "        self.dropout = nn.Dropout(0.3)\n",
    "\n",
    "        init.xavier_uniform_(self.conv1.weight) \n",
    "        init.xavier_uniform_(self.conv2.weight)\n",
    "        init.xavier_uniform_(self.fc1.weight) \n",
    "        init.xavier_uniform_(self.fc2.weight)\n",
    "        init.xavier_uniform_(self.fc3.weight)\n",
    "\n",
    "    def forward(self, x):\n",
    "        x = self.maxpool1(F.relu(self.conv1(x)))\n",
    "        x = self.maxpool2(self.bn(F.relu(self.conv2(x))))\n",
    "        x = x.view(-1, 300*12*12)\n",
    "        x = F.relu(self.fc1(x))\n",
    "        x = F.relu(self.fc2(x))\n",
    "        x = self.fc3(x)\n",
    "        x = self.dropout(x)\n",
    "        return x\n",
    "\n",
    "device = \"cuda\" if torch.cuda.is_available() else \"cpu\"\n",
    "model = CIFAR100(n_channels, n_classes).to(device) #best 79"
   ]
  },
  {
   "cell_type": "code",
   "execution_count": 47,
   "id": "dedb6880-1e8c-41a8-9c61-6773dd3dacd0",
   "metadata": {},
   "outputs": [],
   "source": [
    "class VGG(nn.Module):\n",
    "    def __init__(self, num_classes=10):\n",
    "        super(VGG, self).__init__()\n",
    "        self.features = nn.Sequential(\n",
    "            nn.Conv2d(3, 64, kernel_size=3, padding=1),\n",
    "            nn.BatchNorm2d(64),\n",
    "            nn.ReLU(inplace=True),\n",
    "            nn.Conv2d(64, 64, kernel_size=3, padding=1),\n",
    "            nn.BatchNorm2d(64),\n",
    "            nn.ReLU(inplace=True),\n",
    "            nn.MaxPool2d(kernel_size=2, stride=2),\n",
    "\n",
    "            nn.Conv2d(64, 128, kernel_size=3, padding=1),\n",
    "            nn.BatchNorm2d(128),\n",
    "            nn.ReLU(inplace=True),\n",
    "            nn.Conv2d(128, 128, kernel_size=3, padding=1),\n",
    "            nn.BatchNorm2d(128),\n",
    "            nn.ReLU(inplace=True),\n",
    "            nn.MaxPool2d(kernel_size=2, stride=2),\n",
    "\n",
    "            nn.Conv2d(128, 256, kernel_size=3, padding=1),\n",
    "            nn.BatchNorm2d(256),\n",
    "            nn.ReLU(inplace=True),\n",
    "            nn.Conv2d(256, 256, kernel_size=3, padding=1),\n",
    "            nn.BatchNorm2d(256),\n",
    "            nn.ReLU(inplace=True),\n",
    "            nn.Conv2d(256, 256, kernel_size=3, padding=1),\n",
    "            nn.BatchNorm2d(256),\n",
    "            nn.ReLU(inplace=True),\n",
    "            nn.MaxPool2d(kernel_size=2, stride=2),\n",
    "\n",
    "            nn.Conv2d(256, 512, kernel_size=3, padding=1),\n",
    "            nn.BatchNorm2d(512),\n",
    "            nn.ReLU(inplace=True),\n",
    "            nn.Conv2d(512, 512, kernel_size=3, padding=1),\n",
    "            nn.BatchNorm2d(512),\n",
    "            nn.ReLU(inplace=True),\n",
    "            nn.Conv2d(512, 512, kernel_size=3, padding=1),\n",
    "            nn.BatchNorm2d(512),\n",
    "            nn.ReLU(inplace=True),\n",
    "            nn.MaxPool2d(kernel_size=2, stride=2),\n",
    "\n",
    "            nn.Conv2d(512, 512, kernel_size=3, padding=1),\n",
    "            nn.BatchNorm2d(512),\n",
    "            nn.ReLU(inplace=True),\n",
    "            nn.Conv2d(512, 512, kernel_size=3, padding=1),\n",
    "            nn.BatchNorm2d(512),\n",
    "            nn.ReLU(inplace=True),\n",
    "            nn.Conv2d(512, 512, kernel_size=3, padding=1),\n",
    "            nn.BatchNorm2d(512),\n",
    "            nn.ReLU(inplace=True),\n",
    "            nn.MaxPool2d(kernel_size=2, stride=2),\n",
    "        )\n",
    "        self.classifier = nn.Sequential(\n",
    "            nn.Flatten(),\n",
    "            nn.Linear(512 * 1 * 1, 4096),\n",
    "            nn.ReLU(inplace=True),\n",
    "            nn.Dropout(0.5),\n",
    "            nn.Linear(4096, 4096),\n",
    "            nn.ReLU(inplace=True),\n",
    "            nn.Dropout(0.5),\n",
    "            nn.Linear(4096, num_classes),\n",
    "        )\n",
    "\n",
    "    def forward(self, x):\n",
    "        x = self.features(x)\n",
    "        x = self.classifier(x)\n",
    "        return x\n",
    "\n",
    "model = VGG().to(device) #best 87"
   ]
  },
  {
   "cell_type": "code",
   "execution_count": 51,
   "id": "1c2ad731-525b-48b4-a615-65528d712cfd",
   "metadata": {},
   "outputs": [
    {
     "data": {
      "text/plain": [
       "tensor([[ 0.0940,  0.0662,  0.1145,  0.2040,  0.1250,  0.1596, -0.2197, -0.2703,\n",
       "         -0.0990, -0.2163]], device='cuda:0', grad_fn=<AddmmBackward0>)"
      ]
     },
     "execution_count": 51,
     "metadata": {},
     "output_type": "execute_result"
    }
   ],
   "source": [
    "import torch\n",
    "torch.manual_seed(42)\n",
    "n_dummy = torch.rand(1, 3, 32, 32)\n",
    "model(n_dummy.to(device))"
   ]
  },
  {
   "cell_type": "code",
   "execution_count": 63,
   "id": "2680b8bb-6f87-4970-8522-84bc800f199f",
   "metadata": {},
   "outputs": [],
   "source": [
    "optimizer = torch.optim.SGD(model.parameters(), lr=0.0002)\n",
    "loss_fn = nn.CrossEntropyLoss()\n",
    "epochs = 5"
   ]
  },
  {
   "cell_type": "code",
   "execution_count": 65,
   "id": "38d247c4-7cc8-42be-a542-cd41c131ef58",
   "metadata": {},
   "outputs": [
    {
     "name": "stdout",
     "output_type": "stream",
     "text": [
      "train loss : 0.3773 | test loss : 0.4114 | test acc : 87.38999999999999\n",
      "train loss : 0.3316 | test loss : 0.4133 | test acc : 87.62000000000003\n",
      "train loss : 0.2803 | test loss : 0.4141 | test acc : 87.73000000000008\n",
      "train loss : 0.2397 | test loss : 0.4252 | test acc : 87.53999999999999\n",
      "train loss : 0.1800 | test loss : 0.4407 | test acc : 87.57000000000001\n"
     ]
    },
    {
     "data": {
      "text/plain": [
       "'total time : 128.3463 sec'"
      ]
     },
     "execution_count": 65,
     "metadata": {},
     "output_type": "execute_result"
    }
   ],
   "source": [
    "from timeit import default_timer as timer\n",
    "\n",
    "torch.manual_seed(42)\n",
    "startTime = timer()\n",
    "\n",
    "for epoch in (range(epochs)):\n",
    "  loss_train = 0\n",
    "  for x, y in train_dataloader:\n",
    "    model.train()\n",
    "    x, y = x.to(device), y.to(device)\n",
    "    y_pred = model(x)\n",
    "    loss = loss_fn(y_pred, y)\n",
    "    loss_train += loss\n",
    "\n",
    "    optimizer.zero_grad()\n",
    "    loss.backward()\n",
    "    optimizer.step()\n",
    "\n",
    "  loss_train /= len(train_dataloader)\n",
    "\n",
    "  model.eval()\n",
    "  loss_test, test_acc = 0, 0\n",
    "  with torch.inference_mode():\n",
    "    for x_test, y_test in test_dataloader:\n",
    "      x_test, y_test = x_test.to(device), y_test.to(device)\n",
    "      test_pred = model(x_test)\n",
    "      loss_test += loss_fn(test_pred, y_test)\n",
    "\n",
    "      test_acc += acc(y_test.cpu(), torch.softmax(test_pred, dim=1).argmax(dim=1).cpu())\n",
    "\n",
    "    loss_test /= len(test_dataloader)\n",
    "    test_acc /= len(test_dataloader)\n",
    "\n",
    "  print(f\"train loss : {loss_train:.4f} | test loss : {loss_test:.4f} | test acc : {test_acc*100}\")\n",
    "\n",
    "endTime = timer()\n",
    "total_train_time = endTime - startTime\n",
    "f\"total time : {total_train_time:.4f} sec\""
   ]
  },
  {
   "cell_type": "code",
   "execution_count": 16,
   "id": "49650c17-8982-4a53-9a8a-30595d480642",
   "metadata": {},
   "outputs": [],
   "source": []
  }
 ],
 "metadata": {
  "kernelspec": {
   "display_name": "Python 3 (ipykernel)",
   "language": "python",
   "name": "python3"
  },
  "language_info": {
   "codemirror_mode": {
    "name": "ipython",
    "version": 3
   },
   "file_extension": ".py",
   "mimetype": "text/x-python",
   "name": "python",
   "nbconvert_exporter": "python",
   "pygments_lexer": "ipython3",
   "version": "3.12.2"
  }
 },
 "nbformat": 4,
 "nbformat_minor": 5
}
